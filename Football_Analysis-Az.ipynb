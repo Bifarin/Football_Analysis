{
 "cells": [
  {
   "cell_type": "code",
   "execution_count": 1,
   "metadata": {},
   "outputs": [],
   "source": [
    "import requests\n",
    "import pypyodbc\n",
    "import time\n",
    "import pandas as pd\n",
    "from bs4 import BeautifulSoup\n",
    "from sqlalchemy import create_engine\n",
    "import urllib\n",
    "import re\n",
    "import pyodbc\n",
    "# from sqlalchemy import create_engine\n",
    "import pyodbc\n",
    "# from sqlalchemy import create_engine\n",
    "import html5lib"
   ]
  },
  {
   "cell_type": "markdown",
   "metadata": {},
   "source": [
    "# Parameters"
   ]
  },
  {
   "cell_type": "code",
   "execution_count": 2,
   "metadata": {},
   "outputs": [],
   "source": [
    "Last_Round = 'MW_3'\n",
    "Next_Week = 4\n",
    "Upper_Week = 5\n",
    "\n",
    "# select sink database option [\"Az Sql\", \"Bif_Database\"]\n",
    "sink = \"Az Sql\""
   ]
  },
  {
   "cell_type": "markdown",
   "metadata": {
    "tags": []
   },
   "source": [
    "#### Connect to database"
   ]
  },
  {
   "cell_type": "markdown",
   "metadata": {
    "tags": []
   },
   "source": [
    "### Az Sql"
   ]
  },
  {
   "cell_type": "code",
   "execution_count": 4,
   "metadata": {
    "tags": []
   },
   "outputs": [],
   "source": [
    "if sink == \"Az SQL\":\n",
    "    SERVER_NAME = 'bifking.database.windows.net'\n",
    "    DATABASE_NAME = 'SoccerAnalysis'\n",
    "    USERNAME = 'bifking'\n",
    "    PASSWORD = 'EnglishSoccer@23'\n",
    "\n",
    "    driver= '{ODBC Driver 17 for SQL Server}'\n",
    "    conn_str = (\n",
    "        f\"Driver={driver};\"\n",
    "        f\"Server=tcp:{SERVER_NAME};\"\n",
    "        f\"Database={DATABASE_NAME};\"\n",
    "        f\"Uid={USERNAME};\"\n",
    "        f\"Pwd={PASSWORD};\"\n",
    "        f\"Encrypt=yes;\"\n",
    "        f\"TrustServerCertificate=no;\"\n",
    "        f\"Connection Timeout=30;\"\n",
    "    )\n",
    "\n",
    "    # Create a pyodbc connection object\n",
    "    conn = pyodbc.connect(conn_str)\n",
    "\n",
    "    # Create a SQLAlchemy engine object\n",
    "    engine = create_engine(\"mssql+pyodbc://\", creator=lambda: conn)\n",
    "\n"
   ]
  },
  {
   "cell_type": "code",
   "execution_count": null,
   "metadata": {},
   "outputs": [],
   "source": []
  },
  {
   "cell_type": "markdown",
   "metadata": {},
   "source": [
    "### Bif On Premise"
   ]
  },
  {
   "cell_type": "code",
   "execution_count": null,
   "metadata": {},
   "outputs": [],
   "source": [
    "if sink == \"Bif_Database\"\n",
    "    SERVER_NAME = 'WS1\\\\WSBIF'\n",
    "    DATABASE_NAME = 'SoccerAnalysis'\n",
    "    USERNAME = 'WS1\\\\User'\n",
    "    conn= pypyodbc.connect(\"\"\"\n",
    "        Driver={{SQL Server}};\n",
    "        Server={0};\n",
    "        Database={1};\n",
    "        Trusted_Connection=yes;\"\"\".format(SERVER_NAME, DATABASE_NAME))\n",
    "\n",
    "    engine = create_engine(\"mssql+pyodbc://@\"+SERVER_NAME+\"/\"+DATABASE_NAME+\"?trusted_connection=yes&driver=SQL+Server\")"
   ]
  },
  {
   "cell_type": "code",
   "execution_count": null,
   "metadata": {},
   "outputs": [],
   "source": []
  },
  {
   "cell_type": "markdown",
   "metadata": {},
   "source": [
    "# All League's Player passing data"
   ]
  },
  {
   "cell_type": "code",
   "execution_count": null,
   "metadata": {},
   "outputs": [],
   "source": [
    "#creating a class that inherit from the dictionary class for mapping of the name variation\n",
    "class MissingDict(dict):\n",
    "    __missing__ = lambda self, key: key\n",
    "    \n",
    "map_values = {\n",
    "    \"Wolverhampton Wanderers\": \"Wolves\",\n",
    "    \"West Ham United\": \"West Ham\",\n",
    "    \"Tottenham Hotspur\": \"Tottenham\",\n",
    "    \"Nottingham Forest\": \"Nott'ham Forest\",\n",
    "    \"Newcastle United\": \"Newcastle Utd\",\n",
    "    \"Manchester United\": \"Manchester Utd\",\n",
    "    \"Brighton and Hove Albion\": \"Brighton\",\n",
    "    \"Sheffield United\": \"Sheffield Utd\"\n",
    "}\n",
    "mapping = MissingDict(**map_values)"
   ]
  },
  {
   "cell_type": "markdown",
   "metadata": {},
   "source": [
    "# Functions"
   ]
  },
  {
   "cell_type": "code",
   "execution_count": null,
   "metadata": {},
   "outputs": [],
   "source": [
    "# return list of all column in sqltable\n",
    "def sourcedestcompare(sqltablename:str, pythondf):\n",
    "    sql_columnlist= \"\"\"  \n",
    "    Select COLUMN_NAME from INFORMATION_SCHEMA.COLUMNS\n",
    "    where TABLE_NAME = '{0}'\n",
    "\n",
    "    \"\"\".format(sqltablename)\n",
    "    \n",
    "    df_sqlcolumnlist = pd.read_sql(sql_columnlist, conn)\n",
    "\n",
    "    # remove the index column coming from database\n",
    "    sqllist = df_sqlcolumnlist[1:].values.tolist()\n",
    "    # convert list of list into list of strings\n",
    "    sqllist = [''.join(ele) for ele in sqllist]\n",
    "    \n",
    "    dflist=pythondf.columns.values.tolist()\n",
    "    \n",
    "    # identify difference between sql table and pydataframe\n",
    "    # what sql has but df doesnt contain\n",
    "    temp = []\n",
    "    for x in sqllist:\n",
    "        if x not in dflist:\n",
    "            temp.append(x)        \n",
    "    print(temp)\n",
    "    # what df contains but sql doesnt have\n",
    "    temp1 = []\n",
    "    for x in dflist:\n",
    "        if x not in sqllist:\n",
    "            temp1.append(x)        \n",
    "    print(temp1)\n",
    "#     return sqllist"
   ]
  },
  {
   "cell_type": "code",
   "execution_count": null,
   "metadata": {},
   "outputs": [],
   "source": [
    "# rename duplicate field from fbref.com\n",
    "def renameduplicatecolumns(dlist, df: pd.DataFrame):\n",
    "    for ele in dlist:\n",
    "        cols = []\n",
    "        count = 1\n",
    "        for column in df.columns:\n",
    "            if column == ele:\n",
    "                cols.append(f'{ele}_{count}')\n",
    "                count+=1\n",
    "                continue\n",
    "            cols.append(column)\n",
    "        df.columns = cols"
   ]
  },
  {
   "cell_type": "markdown",
   "metadata": {},
   "source": [
    "# All players passing stats"
   ]
  },
  {
   "cell_type": "code",
   "execution_count": null,
   "metadata": {},
   "outputs": [],
   "source": [
    "standing_url = \"https://fbref.com/en/comps/9/Premier-League-Stats\"\n",
    "data = requests.get(standing_url)\n",
    "soup = BeautifulSoup(data.text, 'lxml')\n",
    "standings_table = soup.select('table.stats_table')[0]\n",
    "links = standings_table.find_all('a')\n",
    "links = [l.get(\"href\") for l in links]\n",
    "links = [l for l in links if 'squads' in l]\n",
    "team_urls = [f\"https://fbref.com{l}\" for l in links]\n",
    "all_PlayerpassingStat = []\n",
    "\n",
    "\n",
    "for team_url in team_urls:\n",
    "    team_name = team_url.split(\"/\")[-1].replace(\"-Stats\", \"\").replace(\"-\",\" \")\n",
    "\n",
    "    \n",
    "    data = requests.get(team_url)\n",
    "    PassingStat = pd.read_html(data.text, match = \"Passing \")[0]\n",
    "    PassingStat.columns = PassingStat.columns.droplevel()\n",
    "    PassingStat[\"Club\"] = mapping[team_name]\n",
    "    PassingStat.drop(PassingStat.tail(2).index, inplace=True)\n",
    "    all_PlayerpassingStat.append(PassingStat)\n",
    "    time.sleep(2)    \n",
    "\n",
    "PassingStat_df = pd.concat(all_PlayerpassingStat)"
   ]
  },
  {
   "cell_type": "code",
   "execution_count": null,
   "metadata": {},
   "outputs": [],
   "source": [
    "testlist = ['Cmp','Att','Cmp%']\n",
    "renameduplicatecolumns(testlist, PassingStat_df)"
   ]
  },
  {
   "cell_type": "code",
   "execution_count": null,
   "metadata": {},
   "outputs": [],
   "source": [
    "sourcedestcompare('PlayerPassingStat', PassingStat_df)"
   ]
  },
  {
   "cell_type": "code",
   "execution_count": null,
   "metadata": {},
   "outputs": [],
   "source": [
    "PassingStat_df[\"Season\"] = \"2023/2024\""
   ]
  },
  {
   "cell_type": "code",
   "execution_count": null,
   "metadata": {},
   "outputs": [],
   "source": [
    "# Send to database (if i want to replace table add if_exists='replace' to the parameter)\n",
    "PassingStat_df[\"Round\"] = Last_Round\n",
    "PassingStat_df.to_sql('PlayerPassingStat', engine, if_exists='append')"
   ]
  },
  {
   "cell_type": "markdown",
   "metadata": {},
   "source": [
    "##### Get League's Squad passing data"
   ]
  },
  {
   "cell_type": "code",
   "execution_count": null,
   "metadata": {},
   "outputs": [],
   "source": [
    "data = requests.get(\"https://fbref.com/en/comps/9/Premier-League-Stats\")\n",
    "\n",
    "\n",
    "squad_passing = pd.read_html(data.text, match = \"Squad Passing \")[0]\n",
    "\n",
    "squad_passing.columns = squad_passing.columns.droplevel()"
   ]
  },
  {
   "cell_type": "code",
   "execution_count": null,
   "metadata": {},
   "outputs": [],
   "source": [
    "testlist = ['Cmp','Att','Cmp%']\n",
    "renameduplicatecolumns(testlist, squad_passing)"
   ]
  },
  {
   "cell_type": "code",
   "execution_count": null,
   "metadata": {},
   "outputs": [],
   "source": [
    "squad_passing[\"Season\"] = \"2023/2024\""
   ]
  },
  {
   "cell_type": "code",
   "execution_count": null,
   "metadata": {},
   "outputs": [],
   "source": [
    "# Send to database (if i want to replace table add if_exists='replace' to the parameter)\n",
    "squad_passing[\"Round\"] = Last_Round\n",
    "squad_passing.to_sql('SquadPassingStat', engine, if_exists='append')"
   ]
  },
  {
   "cell_type": "markdown",
   "metadata": {},
   "source": [
    "# All players standard stats"
   ]
  },
  {
   "cell_type": "code",
   "execution_count": null,
   "metadata": {},
   "outputs": [],
   "source": [
    "standing_url = \"https://fbref.com/en/comps/9/Premier-League-Stats\"\n",
    "\n",
    "\n",
    "data = requests.get(standing_url)\n",
    "\n",
    "\n",
    "soup = BeautifulSoup(data.text, 'lxml')\n",
    "standings_table = soup.select('table.stats_table')[0]\n",
    "links = standings_table.find_all('a')\n",
    "links = [l.get(\"href\") for l in links]\n",
    "links = [l for l in links if 'squads' in l]\n",
    "team_urls = [f\"https://fbref.com{l}\" for l in links]\n",
    "\n",
    "\n",
    "all_StandardStat = []\n",
    "\n",
    "for team_url in team_urls:\n",
    "    team_name = team_url.split(\"/\")[-1].replace(\"-Stats\", \"\").replace(\"-\",\" \")\n",
    "\n",
    "    \n",
    "    data = requests.get(team_url)\n",
    "    import pandas as pd\n",
    "    StandardStat = pd.read_html(data.text, match = \"Standard Stats \")[0]\n",
    "    StandardStat.columns = StandardStat.columns.droplevel()\n",
    "    StandardStat[\"Club\"] = mapping[team_name]\n",
    "    StandardStat.drop(StandardStat.tail(2).index, inplace=True)\n",
    "    StandardStat.drop(['Matches'], axis=1,inplace=True)\n",
    "    all_StandardStat.append(StandardStat)\n",
    "    time.sleep(2)    \n",
    "\n",
    "StandardStat_df = pd.concat(all_StandardStat)"
   ]
  },
  {
   "cell_type": "code",
   "execution_count": null,
   "metadata": {},
   "outputs": [],
   "source": [
    "testlist = ['Gls','Ast','xG','xAG']\n",
    "renameduplicatecolumns(testlist, StandardStat_df)"
   ]
  },
  {
   "cell_type": "code",
   "execution_count": null,
   "metadata": {},
   "outputs": [],
   "source": [
    "sourcedestcompare('PlayerStandardStat', StandardStat_df)"
   ]
  },
  {
   "cell_type": "code",
   "execution_count": null,
   "metadata": {},
   "outputs": [],
   "source": [
    "StandardStat_df = StandardStat_df.drop(['PrgC','PrgP','PrgR'],axis=1)"
   ]
  },
  {
   "cell_type": "code",
   "execution_count": null,
   "metadata": {},
   "outputs": [],
   "source": [
    "# StandardStat_df.columns"
   ]
  },
  {
   "cell_type": "code",
   "execution_count": null,
   "metadata": {},
   "outputs": [],
   "source": [
    "StandardStat_df[\"Season\"] = \"2023/2024\""
   ]
  },
  {
   "cell_type": "code",
   "execution_count": null,
   "metadata": {},
   "outputs": [],
   "source": [
    "\n",
    "# Send to database (if i want to replace table add if_exists='replace' to the parameter)\n",
    "StandardStat_df[\"Round\"] = Last_Round\n",
    "StandardStat_df.to_sql('PlayerStandardStat', engine, if_exists='append')"
   ]
  },
  {
   "cell_type": "markdown",
   "metadata": {},
   "source": [
    "##### Get League's Squad standart stat"
   ]
  },
  {
   "cell_type": "code",
   "execution_count": null,
   "metadata": {},
   "outputs": [],
   "source": [
    "data = requests.get(\"https://fbref.com/en/comps/9/Premier-League-Stats\")\n",
    "squad_standard = pd.read_html(data.text, match = \"Squad Standard Stats \")[0]\n",
    "squad_standard.columns = squad_standard.columns.droplevel()\n",
    "# chanages the duplicate column header at the same time. NO GOOD FOR WHAT I WANT\n",
    "# squad_standard.rename(columns={squad_standard.columns[15]: \"Per90Gls\", squad_standard.columns[16]: \"Per90Ast\"}, inplace=True)\n",
    "# squad_standard"
   ]
  },
  {
   "cell_type": "code",
   "execution_count": null,
   "metadata": {},
   "outputs": [],
   "source": [
    "testlist = ['Gls','Ast','xG','xAG']\n",
    "renameduplicatecolumns(testlist, squad_standard)"
   ]
  },
  {
   "cell_type": "code",
   "execution_count": null,
   "metadata": {},
   "outputs": [],
   "source": [
    "sourcedestcompare('SquadStandardStat', squad_standard)"
   ]
  },
  {
   "cell_type": "code",
   "execution_count": null,
   "metadata": {},
   "outputs": [],
   "source": [
    "squad_standard = squad_standard.drop(['PrgC','PrgP'],axis=1)"
   ]
  },
  {
   "cell_type": "code",
   "execution_count": null,
   "metadata": {},
   "outputs": [],
   "source": [
    "squad_standard[\"Season\"] = \"2023/2024\""
   ]
  },
  {
   "cell_type": "code",
   "execution_count": null,
   "metadata": {
    "tags": []
   },
   "outputs": [],
   "source": [
    "\n",
    "# Send to database (if i want to replace table add if_exists='replace' to the parameter)\n",
    "squad_standard[\"Round\"] = Last_Round\n",
    "squad_standard.to_sql('SquadStandardStat', engine, if_exists='append')"
   ]
  },
  {
   "cell_type": "markdown",
   "metadata": {},
   "source": [
    "# All League's Player shooting data"
   ]
  },
  {
   "cell_type": "code",
   "execution_count": null,
   "metadata": {},
   "outputs": [],
   "source": [
    "standing_url = \"https://fbref.com/en/comps/9/Premier-League-Stats\"\n",
    "data = requests.get(standing_url)\n",
    "soup = BeautifulSoup(data.text, 'lxml')\n",
    "standings_table = soup.select('table.stats_table')[0]\n",
    "links = standings_table.find_all('a')\n",
    "links = [l.get(\"href\") for l in links]\n",
    "links = [l for l in links if 'squads' in l]\n",
    "team_urls = [f\"https://fbref.com{l}\" for l in links]\n",
    "all_PlayershootingStat = []\n",
    "\n",
    "\n",
    "for team_url in team_urls:\n",
    "    team_name = team_url.split(\"/\")[-1].replace(\"-Stats\", \"\").replace(\"-\",\" \")\n",
    "\n",
    "    \n",
    "    data = requests.get(team_url)\n",
    "    ShootingStat = pd.read_html(data.text, match = \"Shooting \")[0]\n",
    "    ShootingStat.columns = ShootingStat.columns.droplevel()\n",
    "    ShootingStat[\"Club\"] = mapping[team_name]\n",
    "    ShootingStat.drop(ShootingStat.tail(2).index, inplace=True)\n",
    "\n",
    "    all_PlayershootingStat.append(ShootingStat)\n",
    "    time.sleep(2)    \n",
    "\n",
    "ShootingStat_df = pd.concat(all_PlayershootingStat)  "
   ]
  },
  {
   "cell_type": "code",
   "execution_count": null,
   "metadata": {},
   "outputs": [],
   "source": [
    "ShootingStat_df[\"Season\"] = \"2023/2024\""
   ]
  },
  {
   "cell_type": "code",
   "execution_count": null,
   "metadata": {
    "tags": []
   },
   "outputs": [],
   "source": [
    "\n",
    "# Send to database (if i want to replace table add if_exists='replace' to the parameter)\n",
    "ShootingStat_df[\"Round\"] = Last_Round\n",
    "ShootingStat_df.to_sql('PlayerShootingStat', engine, if_exists='append')"
   ]
  },
  {
   "cell_type": "markdown",
   "metadata": {
    "tags": []
   },
   "source": [
    "##### Get League's Squad shooting data"
   ]
  },
  {
   "cell_type": "code",
   "execution_count": null,
   "metadata": {},
   "outputs": [],
   "source": [
    "data = requests.get(\"https://fbref.com/en/comps/9/Premier-League-Stats\")\n",
    "squad_shooting = pd.read_html(data.text, match = \"Shooting \")[0]\n",
    "squad_shooting.columns = squad_shooting.columns.droplevel()\n",
    "# squad_shooting"
   ]
  },
  {
   "cell_type": "code",
   "execution_count": null,
   "metadata": {},
   "outputs": [],
   "source": [
    "squad_shooting[\"Season\"] = \"2023/2024\""
   ]
  },
  {
   "cell_type": "code",
   "execution_count": null,
   "metadata": {},
   "outputs": [],
   "source": [
    "\n",
    "# Send to database (if i want to replace table add if_exists='replace' to the parameter)\n",
    "squad_shooting[\"Round\"] = Last_Round\n",
    "squad_shooting.to_sql('SquadShootingStat', engine, if_exists='append')"
   ]
  },
  {
   "cell_type": "markdown",
   "metadata": {},
   "source": [
    " \n",
    " \n",
    " \n",
    "  "
   ]
  },
  {
   "cell_type": "markdown",
   "metadata": {},
   "source": [
    "# All League's Player passtype data"
   ]
  },
  {
   "cell_type": "code",
   "execution_count": null,
   "metadata": {},
   "outputs": [],
   "source": [
    "standing_url = \"https://fbref.com/en/comps/9/Premier-League-Stats\"\n",
    "data = requests.get(standing_url)\n",
    "soup = BeautifulSoup(data.text, 'lxml')\n",
    "standings_table = soup.select('table.stats_table')[0]\n",
    "links = standings_table.find_all('a')\n",
    "links = [l.get(\"href\") for l in links]\n",
    "links = [l for l in links if 'squads' in l]\n",
    "team_urls = [f\"https://fbref.com{l}\" for l in links]\n",
    "\n",
    "\n",
    "all_PlayerpasstypeStat = []\n",
    "\n",
    "\n",
    "for team_url in team_urls:\n",
    "    team_name = team_url.split(\"/\")[-1].replace(\"-Stats\", \"\").replace(\"-\",\" \")\n",
    "    data = requests.get(team_url)\n",
    "    \n",
    "    PasstypeStat = pd.read_html(data.text, match = \"Pass Types \")[0]\n",
    "    PasstypeStat.columns = PasstypeStat.columns.droplevel()\n",
    "    PasstypeStat[\"Club\"] = mapping[team_name]\n",
    "    PasstypeStat.drop(PasstypeStat.tail(2).index, inplace=True)\n",
    "\n",
    "    all_PlayerpasstypeStat.append(PasstypeStat)\n",
    "    time.sleep(2)    \n",
    "\n",
    "PasstypeStat_df = pd.concat(all_PlayerpasstypeStat)  "
   ]
  },
  {
   "cell_type": "code",
   "execution_count": null,
   "metadata": {},
   "outputs": [],
   "source": [
    "PasstypeStat_df[\"Season\"] = \"2023/2024\""
   ]
  },
  {
   "cell_type": "code",
   "execution_count": null,
   "metadata": {},
   "outputs": [],
   "source": [
    "# Send to database (if i want to replace table add if_exists='replace' to the parameter)\n",
    "PasstypeStat_df[\"Round\"] = Last_Round\n",
    "PasstypeStat_df.to_sql('PlayerPasstypeStat', engine, if_exists='append')"
   ]
  },
  {
   "cell_type": "code",
   "execution_count": null,
   "metadata": {},
   "outputs": [],
   "source": []
  },
  {
   "cell_type": "markdown",
   "metadata": {},
   "source": [
    "### Get League's Squad passtype data"
   ]
  },
  {
   "cell_type": "code",
   "execution_count": null,
   "metadata": {},
   "outputs": [],
   "source": [
    "data = requests.get(\"https://fbref.com/en/comps/9/Premier-League-Stats\")\n",
    "squad_passtype = pd.read_html(data.text, match = \"Pass Types \")[0]\n",
    "squad_passtype.columns = squad_passtype.columns.droplevel()\n",
    "# squad_passtype"
   ]
  },
  {
   "cell_type": "code",
   "execution_count": null,
   "metadata": {},
   "outputs": [],
   "source": [
    "squad_passtype[\"Season\"] = \"2023/2024\""
   ]
  },
  {
   "cell_type": "code",
   "execution_count": null,
   "metadata": {},
   "outputs": [],
   "source": [
    "# Send to database (if i want to replace table add if_exists='replace' to the parameter)\n",
    "squad_passtype[\"Round\"] = Last_Round\n",
    "squad_passtype.to_sql('SquadPasstypeStat', engine, if_exists='append')"
   ]
  },
  {
   "cell_type": "code",
   "execution_count": null,
   "metadata": {},
   "outputs": [],
   "source": []
  },
  {
   "cell_type": "code",
   "execution_count": null,
   "metadata": {},
   "outputs": [],
   "source": []
  },
  {
   "cell_type": "code",
   "execution_count": null,
   "metadata": {},
   "outputs": [],
   "source": []
  },
  {
   "cell_type": "markdown",
   "metadata": {},
   "source": [
    "# All League's Player chances data"
   ]
  },
  {
   "cell_type": "code",
   "execution_count": null,
   "metadata": {},
   "outputs": [],
   "source": [
    "standing_url = \"https://fbref.com/en/comps/9/Premier-League-Stats\"\n",
    "data = requests.get(standing_url)\n",
    "soup = BeautifulSoup(data.text, 'lxml')\n",
    "standings_table = soup.select('table.stats_table')[0]\n",
    "links = standings_table.find_all('a')\n",
    "links = [l.get(\"href\") for l in links]\n",
    "links = [l for l in links if 'squads' in l]\n",
    "team_urls = [f\"https://fbref.com{l}\" for l in links]\n",
    "\n",
    "\n",
    "all_PlayerchancesStat = []\n",
    "\n",
    "for team_url in team_urls:\n",
    "    team_name = team_url.split(\"/\")[-1].replace(\"-Stats\", \"\").replace(\"-\",\" \")\n",
    "    data = requests.get(team_url)\n",
    "    \n",
    "    ChancesStat = pd.read_html(data.text, match = \"Goal and Shot Creation \")[0]\n",
    "    ChancesStat.columns = ChancesStat.columns.droplevel()\n",
    "    ChancesStat[\"Club\"] = mapping[team_name]\n",
    "    ChancesStat.drop(ChancesStat.tail(2).index, inplace=True)\n",
    "\n",
    "    all_PlayerchancesStat.append(ChancesStat)\n",
    "    time.sleep(2)    \n",
    "\n",
    "ChancesStat_df = pd.concat(all_PlayerchancesStat)  "
   ]
  },
  {
   "cell_type": "code",
   "execution_count": null,
   "metadata": {},
   "outputs": [],
   "source": [
    "testlist = ['PassLive','PassDead','TO','Sh','Fld','Def']\n",
    "renameduplicatecolumns(testlist, ChancesStat_df)"
   ]
  },
  {
   "cell_type": "code",
   "execution_count": null,
   "metadata": {},
   "outputs": [],
   "source": [
    "sourcedestcompare('PlayerChancesStat', ChancesStat_df)"
   ]
  },
  {
   "cell_type": "code",
   "execution_count": null,
   "metadata": {},
   "outputs": [],
   "source": [
    "ChancesStat_df[\"Season\"] = \"2023/2024\""
   ]
  },
  {
   "cell_type": "code",
   "execution_count": null,
   "metadata": {},
   "outputs": [],
   "source": [
    "# Send to database (if i want to replace table add if_exists='replace' to the parameter)\n",
    "ChancesStat_df[\"Round\"] = Last_Round\n",
    "ChancesStat_df.to_sql('PlayerChancesStat', engine, if_exists='append')"
   ]
  },
  {
   "cell_type": "code",
   "execution_count": null,
   "metadata": {},
   "outputs": [],
   "source": []
  },
  {
   "cell_type": "markdown",
   "metadata": {},
   "source": [
    "##### Get League's Squad chances data"
   ]
  },
  {
   "cell_type": "code",
   "execution_count": null,
   "metadata": {},
   "outputs": [],
   "source": [
    "data = requests.get(\"https://fbref.com/en/comps/9/Premier-League-Stats\")\n",
    "squad_chances = pd.read_html(data.text, match = \"Goal and Shot Creation \")[0]\n",
    "squad_chances.columns = squad_chances.columns.droplevel()\n",
    "# squad_chances"
   ]
  },
  {
   "cell_type": "code",
   "execution_count": null,
   "metadata": {},
   "outputs": [],
   "source": [
    "testlist = ['PassLive','PassDead','TO','Sh','Fld','Def']\n",
    "renameduplicatecolumns(testlist, squad_chances)"
   ]
  },
  {
   "cell_type": "code",
   "execution_count": null,
   "metadata": {},
   "outputs": [],
   "source": [
    "squad_chances[\"Season\"] = \"2023/2024\""
   ]
  },
  {
   "cell_type": "code",
   "execution_count": null,
   "metadata": {},
   "outputs": [],
   "source": [
    "# Send to database (if i want to replace table add if_exists='replace' to the parameter)\n",
    "squad_chances[\"Round\"] = Last_Round\n",
    "squad_chances.to_sql('SquadChancesStat', engine, if_exists='append')"
   ]
  },
  {
   "cell_type": "code",
   "execution_count": null,
   "metadata": {},
   "outputs": [],
   "source": []
  },
  {
   "cell_type": "markdown",
   "metadata": {},
   "source": [
    "# All League's Player defensiveaction data"
   ]
  },
  {
   "cell_type": "code",
   "execution_count": null,
   "metadata": {},
   "outputs": [],
   "source": [
    "standing_url = \"https://fbref.com/en/comps/9/Premier-League-Stats\"\n",
    "data = requests.get(standing_url)\n",
    "soup = BeautifulSoup(data.text, 'lxml')\n",
    "standings_table = soup.select('table.stats_table')[0]\n",
    "links = standings_table.find_all('a')\n",
    "links = [l.get(\"href\") for l in links]\n",
    "links = [l for l in links if 'squads' in l]\n",
    "team_urls = [f\"https://fbref.com{l}\" for l in links]\n",
    "\n",
    "\n",
    "all_PlayerdefensiveactionStat = []\n",
    "\n",
    "for team_url in team_urls:\n",
    "    team_name = team_url.split(\"/\")[-1].replace(\"-Stats\", \"\").replace(\"-\",\" \")\n",
    "    data = requests.get(team_url)\n",
    "    \n",
    "    DefensiveactionStat = pd.read_html(data.text, match = \"Defensive Actions \")[0]\n",
    "    DefensiveactionStat.columns = DefensiveactionStat.columns.droplevel()\n",
    "    DefensiveactionStat[\"Club\"] = mapping[team_name]\n",
    "    DefensiveactionStat.drop(DefensiveactionStat.tail(2).index, inplace=True)\n",
    "\n",
    "    all_PlayerdefensiveactionStat.append(DefensiveactionStat)\n",
    "    time.sleep(2)    \n",
    "\n",
    "DefensiveactionStat_df = pd.concat(all_PlayerdefensiveactionStat)  "
   ]
  },
  {
   "cell_type": "code",
   "execution_count": null,
   "metadata": {},
   "outputs": [],
   "source": [
    "testlist = ['Tkl']\n",
    "renameduplicatecolumns(testlist, DefensiveactionStat_df)"
   ]
  },
  {
   "cell_type": "code",
   "execution_count": null,
   "metadata": {},
   "outputs": [],
   "source": [
    "sourcedestcompare('PlayerDefensiveactionStat', DefensiveactionStat_df)"
   ]
  },
  {
   "cell_type": "code",
   "execution_count": null,
   "metadata": {},
   "outputs": [],
   "source": [
    "DefensiveactionStat_df.columns.values.tolist()"
   ]
  },
  {
   "cell_type": "code",
   "execution_count": null,
   "metadata": {},
   "outputs": [],
   "source": [
    "DefensiveactionStat_df[\"Season\"] = \"2023/2024\""
   ]
  },
  {
   "cell_type": "code",
   "execution_count": null,
   "metadata": {},
   "outputs": [],
   "source": [
    "# Send to database (if i want to replace table add if_exists='replace' to the parameter)\n",
    "DefensiveactionStat_df[\"Round\"] = Last_Round\n",
    "DefensiveactionStat_df.to_sql('PlayerDefensiveactionStat', engine, if_exists='append')"
   ]
  },
  {
   "cell_type": "code",
   "execution_count": null,
   "metadata": {},
   "outputs": [],
   "source": []
  },
  {
   "cell_type": "markdown",
   "metadata": {},
   "source": [
    "##### Get League's Squad defensiveaction data"
   ]
  },
  {
   "cell_type": "code",
   "execution_count": null,
   "metadata": {},
   "outputs": [],
   "source": [
    "data = requests.get(\"https://fbref.com/en/comps/9/Premier-League-Stats\")\n",
    "squad_defensiveaction = pd.read_html(data.text, match = \"Defensive Actions \")[0]\n",
    "squad_defensiveaction.columns = squad_defensiveaction.columns.droplevel()\n",
    "# squad_defensiveaction"
   ]
  },
  {
   "cell_type": "code",
   "execution_count": null,
   "metadata": {},
   "outputs": [],
   "source": [
    "testlist = ['Tkl']\n",
    "renameduplicatecolumns(testlist, squad_defensiveaction)"
   ]
  },
  {
   "cell_type": "code",
   "execution_count": null,
   "metadata": {},
   "outputs": [],
   "source": [
    "sourcedestcompare('SquadDefensiveactionStat', squad_defensiveaction)"
   ]
  },
  {
   "cell_type": "code",
   "execution_count": null,
   "metadata": {},
   "outputs": [],
   "source": [
    "squad_defensiveaction[\"Season\"] = \"2023/2024\""
   ]
  },
  {
   "cell_type": "code",
   "execution_count": null,
   "metadata": {},
   "outputs": [],
   "source": [
    "# Send to database (if i want to replace table add if_exists='replace' to the parameter)\n",
    "squad_defensiveaction[\"Round\"] = Last_Round\n",
    "squad_defensiveaction.to_sql('SquadDefensiveactionStat', engine, if_exists='append')"
   ]
  },
  {
   "cell_type": "code",
   "execution_count": null,
   "metadata": {},
   "outputs": [],
   "source": []
  },
  {
   "cell_type": "code",
   "execution_count": null,
   "metadata": {},
   "outputs": [],
   "source": []
  },
  {
   "cell_type": "code",
   "execution_count": null,
   "metadata": {},
   "outputs": [],
   "source": []
  },
  {
   "cell_type": "markdown",
   "metadata": {},
   "source": [
    "# All League's Player possession data"
   ]
  },
  {
   "cell_type": "code",
   "execution_count": null,
   "metadata": {},
   "outputs": [],
   "source": [
    "standing_url = \"https://fbref.com/en/comps/9/Premier-League-Stats\"\n",
    "data = requests.get(standing_url)\n",
    "soup = BeautifulSoup(data.text, 'lxml')\n",
    "standings_table = soup.select('table.stats_table')[0]\n",
    "links = standings_table.find_all('a')\n",
    "links = [l.get(\"href\") for l in links]\n",
    "links = [l for l in links if 'squads' in l]\n",
    "team_urls = [f\"https://fbref.com{l}\" for l in links]\n",
    "\n",
    "\n",
    "all_PlayerpossessionStat = []\n",
    "\n",
    "for team_url in team_urls:\n",
    "    team_name = team_url.split(\"/\")[-1].replace(\"-Stats\", \"\").replace(\"-\",\" \")\n",
    "    data = requests.get(team_url)\n",
    "    \n",
    "    PossessionStat = pd.read_html(data.text, match = \"Possession \")[0]\n",
    "    PossessionStat.columns = PossessionStat.columns.droplevel()\n",
    "    PossessionStat[\"Club\"] = mapping[team_name]\n",
    "    PossessionStat.drop(PossessionStat.tail(2).index, inplace=True)\n",
    "\n",
    "    all_PlayerpossessionStat.append(PossessionStat)\n",
    "    time.sleep(2)    \n",
    "\n",
    "PossessionStat_df = pd.concat(all_PlayerpossessionStat)  "
   ]
  },
  {
   "cell_type": "code",
   "execution_count": null,
   "metadata": {},
   "outputs": [],
   "source": [
    "sourcedestcompare('PlayerPossessionStat', PossessionStat_df)"
   ]
  },
  {
   "cell_type": "code",
   "execution_count": null,
   "metadata": {},
   "outputs": [],
   "source": [
    "PossessionStat_df[\"Season\"] = \"2023/2024\""
   ]
  },
  {
   "cell_type": "code",
   "execution_count": null,
   "metadata": {},
   "outputs": [],
   "source": [
    "# Send to database (if i want to replace table add if_exists='replace' to the parameter)\n",
    "PossessionStat_df[\"Round\"] = Last_Round\n",
    "PossessionStat_df.to_sql('PlayerPossessionStat', engine, if_exists='append')"
   ]
  },
  {
   "cell_type": "markdown",
   "metadata": {},
   "source": [
    "##### Get League's Squad possession data"
   ]
  },
  {
   "cell_type": "code",
   "execution_count": null,
   "metadata": {},
   "outputs": [],
   "source": [
    "data = requests.get(\"https://fbref.com/en/comps/9/Premier-League-Stats\")\n",
    "squad_possession = pd.read_html(data.text, match = \"Possession \")[0]\n",
    "squad_possession.columns = squad_possession.columns.droplevel()\n",
    "# squad_possession"
   ]
  },
  {
   "cell_type": "code",
   "execution_count": null,
   "metadata": {},
   "outputs": [],
   "source": [
    "sourcedestcompare('SquadPossessionStat', squad_possession)"
   ]
  },
  {
   "cell_type": "code",
   "execution_count": null,
   "metadata": {},
   "outputs": [],
   "source": [
    "squad_possession[\"Season\"] = \"2023/2024\""
   ]
  },
  {
   "cell_type": "code",
   "execution_count": null,
   "metadata": {},
   "outputs": [],
   "source": [
    "# Send to database (if i want to replace table add if_exists='replace' to the parameter)\n",
    "squad_possession[\"Round\"] = Last_Round\n",
    "squad_possession.to_sql('SquadPossessionStat', engine, if_exists='append')"
   ]
  },
  {
   "cell_type": "code",
   "execution_count": null,
   "metadata": {},
   "outputs": [],
   "source": []
  },
  {
   "cell_type": "markdown",
   "metadata": {},
   "source": [
    "# All League's Player playingtime data"
   ]
  },
  {
   "cell_type": "code",
   "execution_count": null,
   "metadata": {},
   "outputs": [],
   "source": [
    "standing_url = \"https://fbref.com/en/comps/9/Premier-League-Stats\"\n",
    "data = requests.get(standing_url)\n",
    "soup = BeautifulSoup(data.text, 'lxml')\n",
    "standings_table = soup.select('table.stats_table')[0]\n",
    "links = standings_table.find_all('a')\n",
    "links = [l.get(\"href\") for l in links]\n",
    "links = [l for l in links if 'squads' in l]\n",
    "team_urls = [f\"https://fbref.com{l}\" for l in links]\n",
    "\n",
    "\n",
    "all_PlayerplayingtimeStat = []"
   ]
  },
  {
   "cell_type": "code",
   "execution_count": null,
   "metadata": {},
   "outputs": [],
   "source": [
    "for team_url in team_urls:\n",
    "    team_name = team_url.split(\"/\")[-1].replace(\"-Stats\", \"\").replace(\"-\",\" \")\n",
    "    data = requests.get(team_url)\n",
    "    \n",
    "    PlayingtimeStat = pd.read_html(data.text, match = \"Playing Time \")[0]\n",
    "    PlayingtimeStat.columns = PlayingtimeStat.columns.droplevel()\n",
    "    PlayingtimeStat[\"Club\"] = mapping[team_name]\n",
    "    PlayingtimeStat.drop(PlayingtimeStat.tail(2).index, inplace=True)\n",
    "\n",
    "    all_PlayerplayingtimeStat.append(PlayingtimeStat)\n",
    "    time.sleep(2)    \n",
    "\n",
    "PlayingtimeStat_df = pd.concat(all_PlayerplayingtimeStat)  "
   ]
  },
  {
   "cell_type": "code",
   "execution_count": null,
   "metadata": {},
   "outputs": [],
   "source": [
    "sourcedestcompare('PlayerPlayingtimeStat', PlayingtimeStat_df)"
   ]
  },
  {
   "cell_type": "code",
   "execution_count": null,
   "metadata": {},
   "outputs": [],
   "source": [
    "PlayingtimeStat_df[\"Season\"] = \"2023/2024\""
   ]
  },
  {
   "cell_type": "code",
   "execution_count": null,
   "metadata": {},
   "outputs": [],
   "source": [
    "# Send to database (if i want to replace table add if_exists='replace' to the parameter)\n",
    "PlayingtimeStat_df[\"Round\"] = Last_Round\n",
    "PlayingtimeStat_df.to_sql('PlayerPlayingtimeStat', engine, if_exists='append')"
   ]
  },
  {
   "cell_type": "code",
   "execution_count": null,
   "metadata": {},
   "outputs": [],
   "source": []
  },
  {
   "cell_type": "markdown",
   "metadata": {},
   "source": [
    "##### Get League's Squad playingtime data"
   ]
  },
  {
   "cell_type": "code",
   "execution_count": null,
   "metadata": {
    "tags": []
   },
   "outputs": [],
   "source": [
    "data = requests.get(\"https://fbref.com/en/comps/9/Premier-League-Stats\")\n",
    "squad_playingtime = pd.read_html(data.text, match = \"Playing Time \")[0]\n",
    "squad_playingtime.columns = squad_playingtime.columns.droplevel()\n",
    "# squad_playingtime"
   ]
  },
  {
   "cell_type": "code",
   "execution_count": null,
   "metadata": {},
   "outputs": [],
   "source": [
    "squad_playingtime[\"Season\"] = \"2023/2024\""
   ]
  },
  {
   "cell_type": "code",
   "execution_count": null,
   "metadata": {},
   "outputs": [],
   "source": [
    "# Send to database (if i want to replace table add if_exists='replace' to the parameter)\n",
    "squad_playingtime[\"Round\"] = Last_Round\n",
    "squad_playingtime.to_sql('SquadPlayingtimeStat', engine, if_exists='append')"
   ]
  },
  {
   "cell_type": "code",
   "execution_count": null,
   "metadata": {},
   "outputs": [],
   "source": []
  },
  {
   "cell_type": "code",
   "execution_count": null,
   "metadata": {},
   "outputs": [],
   "source": []
  },
  {
   "cell_type": "code",
   "execution_count": null,
   "metadata": {},
   "outputs": [],
   "source": []
  },
  {
   "cell_type": "markdown",
   "metadata": {},
   "source": [
    "# All League's Player miscellaneous  data"
   ]
  },
  {
   "cell_type": "code",
   "execution_count": null,
   "metadata": {},
   "outputs": [],
   "source": [
    "standing_url = \"https://fbref.com/en/comps/9/Premier-League-Stats\"\n",
    "data = requests.get(standing_url)\n",
    "soup = BeautifulSoup(data.text, 'lxml')\n",
    "standings_table = soup.select('table.stats_table')[0]\n",
    "links = standings_table.find_all('a')\n",
    "links = [l.get(\"href\") for l in links]\n",
    "links = [l for l in links if 'squads' in l]\n",
    "team_urls = [f\"https://fbref.com{l}\" for l in links]\n",
    "\n",
    "\n",
    "all_PlayermiscellaneousStat = []\n",
    "\n",
    "for team_url in team_urls:\n",
    "    team_name = team_url.split(\"/\")[-1].replace(\"-Stats\", \"\").replace(\"-\",\" \")\n",
    "    data = requests.get(team_url)\n",
    "    \n",
    "    MiscellaneousStat = pd.read_html(data.text, match = \"Miscellaneous Stats \")[0]\n",
    "    MiscellaneousStat.columns = MiscellaneousStat.columns.droplevel()\n",
    "    MiscellaneousStat[\"Club\"] = mapping[team_name]\n",
    "    MiscellaneousStat.drop(MiscellaneousStat.tail(2).index, inplace=True)\n",
    "\n",
    "    all_PlayermiscellaneousStat.append(MiscellaneousStat)\n",
    "    time.sleep(2)    \n",
    "\n",
    "MiscellaneousStat_df = pd.concat(all_PlayermiscellaneousStat)  "
   ]
  },
  {
   "cell_type": "code",
   "execution_count": null,
   "metadata": {},
   "outputs": [],
   "source": [
    "MiscellaneousStat_df[\"Season\"] = \"2023/2024\""
   ]
  },
  {
   "cell_type": "code",
   "execution_count": null,
   "metadata": {},
   "outputs": [],
   "source": [
    "# Send to database (if i want to replace table add if_exists='replace' to the parameter)\n",
    "MiscellaneousStat_df[\"Round\"] = Last_Round\n",
    "MiscellaneousStat_df.to_sql('PlayerMiscellaneousStat', engine, if_exists='append')"
   ]
  },
  {
   "cell_type": "code",
   "execution_count": null,
   "metadata": {},
   "outputs": [],
   "source": []
  },
  {
   "cell_type": "markdown",
   "metadata": {},
   "source": [
    "##### Get League's Squad miscellaneous data"
   ]
  },
  {
   "cell_type": "code",
   "execution_count": null,
   "metadata": {},
   "outputs": [],
   "source": [
    "data = requests.get(\"https://fbref.com/en/comps/9/Premier-League-Stats\")\n",
    "squad_miscellaneous = pd.read_html(data.text, match = \"Miscellaneous Stats \")[0]\n",
    "squad_miscellaneous.columns = squad_miscellaneous.columns.droplevel()\n",
    "# squad_miscellaneous"
   ]
  },
  {
   "cell_type": "code",
   "execution_count": null,
   "metadata": {},
   "outputs": [],
   "source": [
    "squad_miscellaneous[\"Season\"] = \"2023/2024\""
   ]
  },
  {
   "cell_type": "code",
   "execution_count": null,
   "metadata": {},
   "outputs": [],
   "source": [
    "# Send to database (if i want to replace table add if_exists='replace' to the parameter)\n",
    "squad_miscellaneous[\"Round\"] = Last_Round\n",
    "squad_miscellaneous.to_sql('SquadMiscellaneousStat', engine, if_exists='append')"
   ]
  },
  {
   "cell_type": "code",
   "execution_count": null,
   "metadata": {},
   "outputs": [],
   "source": []
  },
  {
   "cell_type": "code",
   "execution_count": null,
   "metadata": {},
   "outputs": [],
   "source": []
  },
  {
   "cell_type": "code",
   "execution_count": null,
   "metadata": {},
   "outputs": [],
   "source": []
  },
  {
   "cell_type": "code",
   "execution_count": null,
   "metadata": {},
   "outputs": [],
   "source": []
  },
  {
   "cell_type": "markdown",
   "metadata": {},
   "source": [
    "###### List of all club players name(include some amount that has been transfered out of the club)"
   ]
  },
  {
   "cell_type": "code",
   "execution_count": null,
   "metadata": {},
   "outputs": [],
   "source": [
    "# Playernames = StandardStat_df[[\"Player\",\"Club\"]].reset_index(drop=True)\n",
    "# Playernames"
   ]
  },
  {
   "cell_type": "code",
   "execution_count": null,
   "metadata": {},
   "outputs": [],
   "source": [
    "#Send to database \n",
    "# Playernames.to_sql('SquadPlayerName', engine,if_exists='replace' )"
   ]
  },
  {
   "cell_type": "code",
   "execution_count": null,
   "metadata": {},
   "outputs": [],
   "source": []
  },
  {
   "cell_type": "code",
   "execution_count": null,
   "metadata": {},
   "outputs": [],
   "source": []
  },
  {
   "cell_type": "markdown",
   "metadata": {},
   "source": [
    "# Total goals and assist contribution for the last 5 matches"
   ]
  },
  {
   "cell_type": "code",
   "execution_count": null,
   "metadata": {},
   "outputs": [],
   "source": [
    "standing_url = \"https://fbref.com/en/comps/9/Premier-League-Stats\"\n",
    "data = requests.get(standing_url)\n",
    "soup = BeautifulSoup(data.text, 'lxml')\n",
    "standings_table = soup.select('table.stats_table')[0]\n",
    "links = standings_table.find_all('a')\n",
    "links = [l.get(\"href\") for l in links]\n",
    "links = [l for l in links if 'squads' in l]\n",
    "team_urls = [f\"https://fbref.com{l}\" for l in links]"
   ]
  },
  {
   "cell_type": "markdown",
   "metadata": {},
   "source": [
    "# CHANGE n>-4 to n>-5"
   ]
  },
  {
   "cell_type": "code",
   "execution_count": null,
   "metadata": {},
   "outputs": [],
   "source": [
    "\n",
    "# team_urls = [l for l in team_urls if l not in ['https://fbref.com/en/squads/8cec06e1/Wolverhampton-Wanderers-Stats','https://fbref.com/en/squads/7c21e445/West-Ham-United-Stats','https://fbref.com/en/squads/361ca564/Tottenham-Hotspur-Stats','https://fbref.com/en/squads/e4a775cb/Nottingham-Forest-Stats','https://fbref.com/en/squads/b2b47a98/Newcastle-United-Stats','https://fbref.com/en/squads/19538871/Manchester-United-Stats','https://fbref.com/en/squads/d07537b9/Brighton-and-Hove-Albion-Stats']]\n",
    "\n",
    "\n",
    "all_PlayerLast5Performance = []\n",
    "\n",
    "\n",
    "for team_url in team_urls:\n",
    "    team_name = team_url.split(\"/\")[-1].replace(\"-Stats\", \"\").replace(\"-\",\" \")\n",
    "# team_url = team_urls[0]\n",
    "# team_url\n",
    "    data = requests.get(team_url)\n",
    "    soup = BeautifulSoup(data.text, 'lxml')\n",
    "    scorefixture_table = soup.select('table.stats_table')[1]\n",
    "    links = scorefixture_table.find_all('a')\n",
    "    links = [l.get(\"href\") for l in links]\n",
    "    links = [l for l in links if '/matches' in l ]\n",
    "    # remove duplicate from list\n",
    "    links = list(dict.fromkeys(links))\n",
    "    # removing non premier league (Remove europa)\n",
    "    links = [l for l in links if \"Premier\" in l]\n",
    "    links\n",
    "    \n",
    "    \n",
    "    last5_marchreport = []\n",
    "    n = -1    \n",
    "    while n >-6:\n",
    "        # check, especially within the first 5matches of the season, that n should be within the index range\n",
    "        if n >= -len(links):  # Check if n is within the valid index range\n",
    "            data = requests.get(f\"https://fbref.com{links[n]}\")\n",
    "            summary = pd.read_html(data.text, match= mapping[team_name]+\" Player Stats Table\")[0]\n",
    "            summary.columns = summary.columns.droplevel()\n",
    "            # retrun the opposition team name\n",
    "            string = links[n]\n",
    "            modifiedstring = string[string.rindex('/') + 1:]\n",
    "            words = re.findall(r'\\b\\w+\\b', modifiedstring)\n",
    "            # Remove the last 5 words\n",
    "            summary[\"Clash\"] = ' '.join(words[:-5])\n",
    "\n",
    "\n",
    "\n",
    "            summary[\"Club_\"] = team_name\n",
    "            #create a short name\n",
    "            summary[\"ShClub_\"] = mapping[team_name]\n",
    "            summary.drop(summary.tail(1).index, inplace=True)\n",
    "        # if it is out of range then move to the next loop\n",
    "        else:\n",
    "            n -= 1\n",
    "            continue\n",
    "        \n",
    "        n -= 1\n",
    "        \n",
    "        last5_marchreport.append(summary)\n",
    "        time.sleep(2)\n",
    "\n",
    "    pd_summary = pd.concat(last5_marchreport)\n",
    "    all_PlayerLast5Performance.append(pd_summary)\n",
    "    time.sleep(2)\n",
    "\n",
    "pd_allteam = pd.concat(all_PlayerLast5Performance)"
   ]
  },
  {
   "cell_type": "code",
   "execution_count": null,
   "metadata": {
    "tags": []
   },
   "outputs": [],
   "source": [
    "# pd_allteam"
   ]
  },
  {
   "cell_type": "code",
   "execution_count": null,
   "metadata": {},
   "outputs": [],
   "source": [
    "# Send the granula data for analysis the games where a player socred\n",
    "dfperformanceagaisntclub = pd_allteam[['Player','#','Min','Gls','Ast','Sh','SoT','CrdY','CrdR','Blocks', 'Tkl', 'Int','SCA','GCA','Club_','ShClub_', 'Clash']]\n",
    "dfperformanceagaisntclub[\"Season\"] = \"2023/2024\"\n",
    "dfperformanceagaisntclub[\"Round\"] = Last_Round\n",
    "dfperformanceagaisntclub.to_sql('_PlayerPerformanceRecentGran', engine, if_exists='append')"
   ]
  },
  {
   "cell_type": "code",
   "execution_count": null,
   "metadata": {},
   "outputs": [],
   "source": []
  },
  {
   "cell_type": "code",
   "execution_count": null,
   "metadata": {},
   "outputs": [],
   "source": []
  },
  {
   "cell_type": "code",
   "execution_count": null,
   "metadata": {},
   "outputs": [],
   "source": [
    "dfperformancerecent = pd_allteam[['Player','#','Min','Gls','Ast','Sh','SoT','CrdY','CrdR','Blocks', 'Tkl', 'Int','SCA','GCA','Club_','ShClub_']]\n",
    "dfperformancerecent = dfperformancerecent.groupby(['#','Player','Club_', 'ShClub_']).sum().reset_index()\n",
    "# dff = dfperformancerecent.groupby(['Club_'])\n",
    "# dff.get_group(\"West Ham United\")\n"
   ]
  },
  {
   "cell_type": "code",
   "execution_count": null,
   "metadata": {},
   "outputs": [],
   "source": [
    "dfperformancerecent[\"Season\"] = \"2023/2024\""
   ]
  },
  {
   "cell_type": "code",
   "execution_count": null,
   "metadata": {},
   "outputs": [],
   "source": [
    "# Send to database (if i want to replace table add if_exists='replace' to the parameter)\n",
    "dfperformancerecent[\"Round\"] = Last_Round\n",
    "dfperformancerecent.to_sql('_PlayerPerformanceRecent', engine, if_exists='append')"
   ]
  },
  {
   "cell_type": "code",
   "execution_count": null,
   "metadata": {},
   "outputs": [],
   "source": []
  },
  {
   "cell_type": "code",
   "execution_count": null,
   "metadata": {},
   "outputs": [],
   "source": []
  },
  {
   "cell_type": "markdown",
   "metadata": {},
   "source": [
    "# Team Result"
   ]
  },
  {
   "cell_type": "code",
   "execution_count": null,
   "metadata": {},
   "outputs": [],
   "source": [
    "standing_url = \"https://fbref.com/en/comps/9/Premier-League-Stats\"\n",
    "data = requests.get(standing_url)\n",
    "soup = BeautifulSoup(data.text, 'lxml')\n",
    "standings_table = soup.select('table.stats_table')[0]\n",
    "links = standings_table.find_all('a')\n",
    "links = [l.get(\"href\") for l in links]\n",
    "links = [l for l in links if 'squads' in l]\n",
    "team_urls = [f\"https://fbref.com{l}\" for l in links]\n",
    "\n",
    "\n",
    "all_TeamresultStat = []"
   ]
  },
  {
   "cell_type": "code",
   "execution_count": null,
   "metadata": {},
   "outputs": [],
   "source": [
    "for team_url in team_urls:\n",
    "    team_name = team_url.split(\"/\")[-1].replace(\"-Stats\", \"\").replace(\"-\",\" \")\n",
    "    data = requests.get(team_url)\n",
    "    \n",
    "    ResultStat = pd.read_html(data.text, match = \"Scores & Fixtures \")[0]\n",
    "#     ResultStat.columns = ResultStat.columns.droplevel()\n",
    "    ResultStat[\"Club\"] = team_name\n",
    "    ResultStat[\"ShClub_\"] = mapping[team_name]\n",
    "#     ResultStat.drop(ResultStat.tail(2).index, inplace=True)\n",
    "\n",
    "    all_TeamresultStat.append(ResultStat)\n",
    "    time.sleep(2)    \n",
    "    \n",
    "\n",
    "ResultStat_df = pd.concat(all_TeamresultStat)  "
   ]
  },
  {
   "cell_type": "code",
   "execution_count": null,
   "metadata": {},
   "outputs": [],
   "source": [
    "ResultStat_df = ResultStat_df[ResultStat_df['Result'].notna()]\n",
    "ResultStat_df = ResultStat_df[ResultStat_df['Comp']=='Premier League']"
   ]
  },
  {
   "cell_type": "code",
   "execution_count": null,
   "metadata": {},
   "outputs": [],
   "source": [
    "\n",
    "\n",
    "\n",
    "#Dont run\n",
    "# Removing rows where a column carries a particular string\n",
    "# dd = ResultStat_df[ResultStat_df['Result'].str.contains('Result') == False]\n",
    "# dd"
   ]
  },
  {
   "cell_type": "code",
   "execution_count": null,
   "metadata": {},
   "outputs": [],
   "source": [
    "ResultStat_df[\"Season\"] = \"2023/2024\""
   ]
  },
  {
   "cell_type": "code",
   "execution_count": null,
   "metadata": {},
   "outputs": [],
   "source": [
    "# Send to database (if i want to replace table add if_exists='replace' to the parameter)\n",
    "ResultStat_df =ResultStat_df.rename({\"Round\":\"MatchWeek\"}, axis='columns')\n",
    "ResultStat_df[\"Round\"] = Last_Round\n",
    "ResultStat_df.to_sql('FixturesStat', engine, if_exists='append')"
   ]
  },
  {
   "cell_type": "markdown",
   "metadata": {},
   "source": [
    "# Table Standings"
   ]
  },
  {
   "cell_type": "code",
   "execution_count": null,
   "metadata": {},
   "outputs": [],
   "source": [
    "standing_url = \"https://fbref.com/en/comps/9/Premier-League-Stats\"\n",
    "data = requests.get(standing_url)\n",
    "Standingtable = pd.read_html(data.text, match = \"Regular season Table\")[0]\n",
    "# Standingtable[Standingtable['Squad']]"
   ]
  },
  {
   "cell_type": "code",
   "execution_count": null,
   "metadata": {},
   "outputs": [],
   "source": [
    "Standingtable_df = Standingtable[['Rk','Squad','W','D','L','Pts','GF','GA','GD','Last 5','Top Team Scorer','MP']]"
   ]
  },
  {
   "cell_type": "code",
   "execution_count": null,
   "metadata": {},
   "outputs": [],
   "source": [
    "Standingtable_df[\"Season\"] = \"2023/2024\""
   ]
  },
  {
   "cell_type": "code",
   "execution_count": null,
   "metadata": {},
   "outputs": [],
   "source": [
    "# Send to database (if i want to replace table add if_exists='replace' to the parameter)\n",
    "Standingtable_df[\"Round\"] = Last_Round\n",
    "Standingtable_df.to_sql('_Standtable', engine, if_exists='append')"
   ]
  },
  {
   "cell_type": "code",
   "execution_count": null,
   "metadata": {},
   "outputs": [],
   "source": []
  },
  {
   "cell_type": "code",
   "execution_count": null,
   "metadata": {},
   "outputs": [],
   "source": []
  },
  {
   "cell_type": "markdown",
   "metadata": {},
   "source": [
    "# Next 7 fixtures"
   ]
  },
  {
   "cell_type": "code",
   "execution_count": null,
   "metadata": {},
   "outputs": [],
   "source": [
    "standing_url = \"https://fbref.com/en/comps/9/Premier-League-Stats\"\n",
    "data = requests.get(standing_url)\n",
    "soup = BeautifulSoup(data.text, 'lxml')\n",
    "standings_table = soup.select('table.stats_table')[0]\n",
    "links = standings_table.find_all('a')\n",
    "links = [l.get(\"href\") for l in links]\n",
    "links = [l for l in links if 'squads' in l]\n",
    "team_urls = [f\"https://fbref.com{l}\" for l in links]\n",
    "# team_urls = [l for l in team_urls if l not in ['https://fbref.com/en/squads/8cec06e1/Wolverhampton-Wanderers-Stats','https://fbref.com/en/squads/7c21e445/West-Ham-United-Stats','https://fbref.com/en/squads/361ca564/Tottenham-Hotspur-Stats','https://fbref.com/en/squads/e4a775cb/Nottingham-Forest-Stats','https://fbref.com/en/squads/b2b47a98/Newcastle-United-Stats','https://fbref.com/en/squads/19538871/Manchester-United-Stats','https://fbref.com/en/squads/d07537b9/Brighton-and-Hove-Albion-Stats']]\n",
    "\n",
    "\n",
    "all_Next7Fixture = []\n",
    "\n",
    "\n",
    "for team_url in team_urls:\n",
    "    team_name = team_url.split(\"/\")[-1].replace(\"-Stats\", \"\").replace(\"-\",\" \")\n",
    "#     team_url = team_urls[0]\n",
    "    # team_url\n",
    "    data = requests.get(team_url)\n",
    "    fixtures = pd.read_html(data.text, match= \"Scores & Fixtures \")[0]\n",
    "    fixtures[\"shClub\"] = mapping[team_name]\n",
    "    fixtures = fixtures[fixtures['Comp']=='Premier League']\n",
    "    fixtures[['Match Report']] = fixtures[['Match Report']].fillna('')\n",
    "    fixtures = fixtures[fixtures['Match Report'].str.contains('Match Report')==False]\n",
    "    \n",
    "    fixtures = fixtures.iloc[:7]\n",
    "# converting object type to date data type\n",
    "    #     fixtures[\"Date\"] = pd.to_datetime(fixtures[\"Date\"])\n",
    "#     fixtures.nsmallest(n=7, columns=['Date'])\n",
    "    \n",
    "    all_Next7Fixture.append(fixtures)\n",
    "    time.sleep(2)\n",
    "    \n",
    "pd_allNext7Fixtures = pd.concat(all_Next7Fixture)\n",
    "# pd_allNext7Fixtures  \n",
    "    \n"
   ]
  },
  {
   "cell_type": "code",
   "execution_count": null,
   "metadata": {},
   "outputs": [],
   "source": [
    "pd_allNext7Fixtures[\"Season\"] = \"2023/2024\""
   ]
  },
  {
   "cell_type": "code",
   "execution_count": null,
   "metadata": {},
   "outputs": [],
   "source": [
    "# Send to database (if i want to replace table add if_exists='replace' to the parameter)\n",
    "pd_allNext7Fixtures[\"Round\"] = Last_Round\n",
    "pd_allNext7Fixtures.to_sql('Next7Fixtures', engine, if_exists='append')"
   ]
  },
  {
   "cell_type": "markdown",
   "metadata": {},
   "source": []
  },
  {
   "cell_type": "markdown",
   "metadata": {},
   "source": [
    "# This week and Next week Fixture draw"
   ]
  },
  {
   "cell_type": "markdown",
   "metadata": {},
   "source": [
    "#### Edit filter condition within the first block of code"
   ]
  },
  {
   "cell_type": "markdown",
   "metadata": {},
   "source": [
    "<font color='blue'>Edit filter condition within the first block of code</font>"
   ]
  },
  {
   "cell_type": "code",
   "execution_count": null,
   "metadata": {},
   "outputs": [],
   "source": [
    "nextweekfixture_url = \"https://fbref.com/en/comps/9/schedule/Premier-League-Scores-and-Fixtures\"\n",
    "data = requests.get(nextweekfixture_url)\n",
    "nextfixtures = pd.read_html(data.text, match= \"Scores & Fixtures \")[0]\n",
    "nextfixtures = nextfixtures[(nextfixtures[\"Match Report\"]==\"Head-to-Head\")&((nextfixtures[\"Wk\"]==Next_Week)|(nextfixtures[\"Wk\"]==Upper_Week))]\n",
    "# #requires that the column changes field type : I was changing from float to string. \n",
    "# Week = {1.0: 'This week', 2.0: 'Next week'}\n",
    "# nextfixtures = nextfixtures.replace({\"Wk\":Week})\n",
    "# #creating a new column entirely\n",
    "nextfixtures['Week'] = ['This week' if x==Next_Week else 'Next week' for x in nextfixtures['Wk']]\n",
    "nextfixtures"
   ]
  },
  {
   "cell_type": "code",
   "execution_count": null,
   "metadata": {},
   "outputs": [],
   "source": [
    "nextfixtures[\"Season\"] = \"2023/2024\""
   ]
  },
  {
   "cell_type": "code",
   "execution_count": null,
   "metadata": {
    "tags": []
   },
   "outputs": [],
   "source": [
    "# Send to database (if i want to replace table add if_exists='replace' to the parameter)\n",
    "nextfixtures[\"Round\"] = Last_Round\n",
    "nextfixtures.to_sql('NextweekFixtures', engine, if_exists='append')"
   ]
  },
  {
   "cell_type": "code",
   "execution_count": null,
   "metadata": {},
   "outputs": [],
   "source": []
  },
  {
   "cell_type": "markdown",
   "metadata": {},
   "source": [
    "# Get Player HeadShot"
   ]
  },
  {
   "cell_type": "code",
   "execution_count": null,
   "metadata": {},
   "outputs": [],
   "source": [
    "# code\n",
    "# standing_url = \"https://fbref.com/en/comps/9/Premier-League-Stats\"\n",
    "# data = requests.get(standing_url)\n",
    "# soup = BeautifulSoup(data.text, 'lxml')\n",
    "# standings_table = soup.select('table.stats_table')[0]\n",
    "# links = standings_table.find_all('a')\n",
    "# links = [l.get(\"href\") for l in links]\n",
    "# links = [l for l in links if 'squads' in l]\n",
    "# team_urls = [f\"https://fbref.com{l}\" for l in links][0]\n",
    "# all_PlayershootingStat = []\n",
    "\n"
   ]
  },
  {
   "cell_type": "code",
   "execution_count": null,
   "metadata": {},
   "outputs": [],
   "source": [
    "# for team_url in team_urls:\n",
    "\n",
    "#     team_url = team_urls[0]\n",
    "# team_url\n",
    "\n",
    "# code\n",
    "# data = requests.get(team_urls)\n",
    "# soup = BeautifulSoup(data.text, 'lxml')\n",
    "# standings_table = soup.select('table.stats_table')[0]\n",
    "# links = standings_table.find_all('a')\n",
    "# links = [l.get(\"href\") for l in links]\n",
    "# links = [l for l in links if 'players' in l if 'matchlogs' not in l]\n",
    "# player_urls = [f\"https://fbref.com{l}\" for l in links][0]\n",
    "# player_urls\n",
    "# Player_name = player_urls.split(\"/\")[-1].replace(\"-\",\" \")\n",
    "# all_playerphoto = []\n",
    "\n",
    "# # for player_url in player_url:\n",
    "# data =urllib.request.urlopen(player_urls)\n",
    "# soup= BeautifulSoup(data)\n",
    "# images = soup.findAll('img')\n",
    "# images = [i for i in images if 'headshots' in i['src']]\n",
    "    \n",
    "# allplayer = []"
   ]
  },
  {
   "cell_type": "code",
   "execution_count": null,
   "metadata": {},
   "outputs": [],
   "source": [
    "# code\n",
    "# for image in images:\n",
    "#     a=image['src']\n",
    "    \n",
    "#     allplayer.append(a)\n",
    "# df = pd.DataFrame(allplayer, columns = ['imageurl'])\n",
    "# df['name'] = Player_name\n",
    "# df"
   ]
  },
  {
   "cell_type": "code",
   "execution_count": null,
   "metadata": {},
   "outputs": [],
   "source": []
  },
  {
   "cell_type": "code",
   "execution_count": null,
   "metadata": {},
   "outputs": [],
   "source": []
  },
  {
   "cell_type": "code",
   "execution_count": null,
   "metadata": {},
   "outputs": [],
   "source": [
    "# code\n",
    "# standing_url = \"https://fbref.com/en/comps/9/Premier-League-Stats\"\n",
    "# data = requests.get(standing_url)\n",
    "# soup = BeautifulSoup(data.text, 'lxml')\n",
    "# standings_table = soup.select('table.stats_table')[0]\n",
    "# links = standings_table.find_all('a')\n",
    "# links = [l.get(\"href\") for l in links]\n",
    "# links = [l for l in links if 'squads' in l]\n",
    "# team_urls = [f\"https://fbref.com{l}\" for l in links]\n",
    "\n",
    "# all_teamplayerphoto = []\n",
    "# for team_url in team_urls:\n",
    "#     team_name = team_url.split(\"/\")[-1].replace(\"-Stats\", \"\").replace(\"-\",\" \")\n",
    "#     data = requests.get(team_url)\n",
    "#     soup = BeautifulSoup(data.text, 'lxml')\n",
    "#     standings_table = soup.select('table.stats_table')[0]\n",
    "#     links = standings_table.find_all('a')\n",
    "#     links = [l.get(\"href\") for l in links]\n",
    "#     links = [l for l in links if 'players' in l if 'matchlogs' not in l]\n",
    "#     player_urls = [f\"https://fbref.com{l}\" for l in links]\n",
    "    \n",
    "    \n",
    "#     all_playerphoto = []\n",
    "#     for player_url in player_urls:\n",
    "#         Player_name = player_url.split(\"/\")[-1].replace(\"-\",\" \")\n",
    "#         data =urllib.request.urlopen(player_url)\n",
    "#         soup= BeautifulSoup(data)\n",
    "#         images = soup.findAll('img')\n",
    "#         images = [i for i in images if 'headshots' in i['src']]\n",
    "#         player = []\n",
    "#         for image in images:\n",
    "#             a=image['src']\n",
    "#             player.append(a)\n",
    "#             df = pd.DataFrame(player, columns = ['imageurl'])\n",
    "#             df['name'] = Player_name\n",
    "# #             time.sleep(0.5)\n",
    "#         pd_player =df\n",
    "#         pd_player['Squad'] = mapping[team_name]\n",
    "        \n",
    "        \n",
    "#         all_playerphoto.append(pd_player)\n",
    "# #         time.sleep(0.5)\n",
    "#     pd_all_playerphoto = pd.concat(all_playerphoto)\n",
    "    \n",
    "    \n",
    "#     all_teamplayerphoto.append(pd_all_playerphoto)\n",
    "#     time.sleep(0.5)\n",
    "# pd_all_teamplayerphoto = pd.concat(all_teamplayerphoto)\n",
    "        "
   ]
  },
  {
   "cell_type": "code",
   "execution_count": null,
   "metadata": {},
   "outputs": [],
   "source": [
    "# code\n",
    "# pd_all_teamplayerphoto"
   ]
  },
  {
   "cell_type": "code",
   "execution_count": null,
   "metadata": {},
   "outputs": [],
   "source": [
    "# Send to database (if i want to replace table add if_exists='replace' to the parameter)\n",
    "# nextfixtures[\"Round\"] = 'MW_10'\n",
    "\n",
    "\n",
    "# code\n",
    "# pd_all_teamplayerphoto.to_sql('_Playerphoto', eng, if_exists='')"
   ]
  }
 ],
 "metadata": {
  "kernelspec": {
   "display_name": "Python 3 (ipykernel)",
   "language": "python",
   "name": "python3"
  },
  "language_info": {
   "codemirror_mode": {
    "name": "ipython",
    "version": 3
   },
   "file_extension": ".py",
   "mimetype": "text/x-python",
   "name": "python",
   "nbconvert_exporter": "python",
   "pygments_lexer": "ipython3",
   "version": "3.10.9"
  }
 },
 "nbformat": 4,
 "nbformat_minor": 4
}
