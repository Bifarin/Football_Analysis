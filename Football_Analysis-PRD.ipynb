{
 "cells": [
  {
   "cell_type": "code",
   "execution_count": 1,
   "metadata": {},
   "outputs": [],
   "source": [
    "import requests\n",
    "import pypyodbc\n",
    "import time\n",
    "import pandas as pd\n",
    "from bs4 import BeautifulSoup\n",
    "from sqlalchemy import create_engine\n",
    "import urllib\n",
    "import re\n",
    "import pyodbc"
   ]
  },
  {
   "cell_type": "code",
   "execution_count": 2,
   "metadata": {},
   "outputs": [],
   "source": [
    "import html5lib"
   ]
  },
  {
   "cell_type": "markdown",
   "metadata": {},
   "source": [
    "# Parameter"
   ]
  },
  {
   "cell_type": "code",
   "execution_count": 3,
   "metadata": {},
   "outputs": [],
   "source": [
    "Last_Round = 'MW_27'\n",
    "Next_Week = 28\n",
    "Upper_Week = 29\n",
    "\n",
    "# select sink database option [\"Az SQL\", \"Bif_Database\"]\n",
    "sink = \"Bif_Database\""
   ]
  },
  {
   "cell_type": "markdown",
   "metadata": {},
   "source": [
    "#### Connect to database"
   ]
  },
  {
   "cell_type": "markdown",
   "metadata": {},
   "source": [
    "### Az Sql"
   ]
  },
  {
   "cell_type": "code",
   "execution_count": 4,
   "metadata": {
    "tags": []
   },
   "outputs": [],
   "source": [
    "if sink == \"Az SQL\":\n",
    "    SERVER_NAME = 'socceranalyticsgroup.database.windows.net'\n",
    "    DATABASE_NAME = 'eplanalytics'\n",
    "    USERNAME = 'socceranalyticsgroup'\n",
    "    PASSWORD = 'Zador@63'\n",
    "\n",
    "    driver= '{ODBC Driver 17 for SQL Server}'\n",
    "    conn_str = (\n",
    "        f\"Driver={driver};\"\n",
    "        f\"Server=tcp:{SERVER_NAME};\"\n",
    "        f\"Database={DATABASE_NAME};\"\n",
    "        f\"Uid={USERNAME};\"\n",
    "        f\"Pwd={PASSWORD};\"\n",
    "        f\"Encrypt=yes;\"\n",
    "        f\"TrustServerCertificate=no;\"\n",
    "        f\"Connection Timeout=30;\"\n",
    "    )\n",
    "\n",
    "    # Create a pyodbc connection object\n",
    "    conn = pyodbc.connect(conn_str)\n",
    "\n",
    "    # Create a SQLAlchemy engine object\n",
    "    engine = create_engine(\"mssql+pyodbc://\", creator=lambda: conn)\n",
    "\n"
   ]
  },
  {
   "cell_type": "code",
   "execution_count": null,
   "metadata": {},
   "outputs": [],
   "source": []
  },
  {
   "cell_type": "markdown",
   "metadata": {},
   "source": [
    "### Bif On Premise"
   ]
  },
  {
   "cell_type": "code",
   "execution_count": 5,
   "metadata": {},
   "outputs": [],
   "source": [
    "if sink == \"Bif_Database\":\n",
    "    SERVER_NAME = 'WS1\\\\WSBIF'\n",
    "    DATABASE_NAME = 'SoccerAnalysis'\n",
    "    USERNAME = 'WS1\\\\User'\n",
    "    conn= pypyodbc.connect(\"\"\"\n",
    "        Driver={{SQL Server}};\n",
    "        Server={0};\n",
    "        Database={1};\n",
    "        Trusted_Connection=yes;\"\"\".format(SERVER_NAME, DATABASE_NAME))\n",
    "\n",
    "    engine = create_engine(\"mssql+pyodbc://@\"+SERVER_NAME+\"/\"+DATABASE_NAME+\"?trusted_connection=yes&driver=SQL+Server\")"
   ]
  },
  {
   "cell_type": "code",
   "execution_count": null,
   "metadata": {},
   "outputs": [],
   "source": []
  },
  {
   "cell_type": "markdown",
   "metadata": {},
   "source": [
    "# Renaming some club"
   ]
  },
  {
   "cell_type": "code",
   "execution_count": 6,
   "metadata": {},
   "outputs": [],
   "source": [
    "#creating a class that inherit from the dictionary class for mapping of the name variation\n",
    "class MissingDict(dict):\n",
    "    __missing__ = lambda self, key: key\n",
    "    \n",
    "map_values = {\n",
    "    \"Wolverhampton Wanderers\": \"Wolves\",\n",
    "    \"West Ham United\": \"West Ham\",\n",
    "    \"Tottenham Hotspur\": \"Tottenham\",\n",
    "    \"Nottingham Forest\": \"Nott'ham Forest\",\n",
    "    \"Newcastle United\": \"Newcastle Utd\",\n",
    "    \"Manchester United\": \"Manchester Utd\",\n",
    "    \"Brighton and Hove Albion\": \"Brighton\",\n",
    "    \"Sheffield United\": \"Sheffield Utd\"\n",
    "}\n",
    "mapping = MissingDict(**map_values)"
   ]
  },
  {
   "cell_type": "markdown",
   "metadata": {},
   "source": [
    "# Functions"
   ]
  },
  {
   "cell_type": "code",
   "execution_count": 7,
   "metadata": {},
   "outputs": [],
   "source": [
    "# return list of all column in sqltable\n",
    "def sourcedestcompare(sqltablename:str, pythondf):\n",
    "    sql_columnlist= \"\"\"  \n",
    "    Select COLUMN_NAME from INFORMATION_SCHEMA.COLUMNS\n",
    "    where TABLE_NAME = '{0}'\n",
    "\n",
    "    \"\"\".format(sqltablename)\n",
    "    \n",
    "    df_sqlcolumnlist = pd.read_sql(sql_columnlist, conn)\n",
    "\n",
    "    # remove the index column coming from database\n",
    "    sqllist = df_sqlcolumnlist[1:].values.tolist()\n",
    "    # convert list of list into list of strings\n",
    "    sqllist = [''.join(ele) for ele in sqllist]\n",
    "    \n",
    "    dflist=pythondf.columns.values.tolist()\n",
    "    \n",
    "    # identify difference between sql table and pydataframe\n",
    "    # what sql has but df doesnt contain\n",
    "    temp = []\n",
    "    for x in sqllist:\n",
    "        if x not in dflist:\n",
    "            temp.append(x)        \n",
    "    print(temp)\n",
    "    # what df contains but sql doesnt have\n",
    "    temp1 = []\n",
    "    for x in dflist:\n",
    "        if x not in sqllist:\n",
    "            temp1.append(x)        \n",
    "    print(temp1)\n",
    "#     return sqllist"
   ]
  },
  {
   "cell_type": "code",
   "execution_count": 8,
   "metadata": {},
   "outputs": [],
   "source": [
    "# rename duplicate field from fbref.com\n",
    "def renameduplicatecolumns(dlist, df: pd.DataFrame):\n",
    "    for ele in dlist:\n",
    "        cols = []\n",
    "        count = 1\n",
    "        for column in df.columns:\n",
    "            if column == ele:\n",
    "                cols.append(f'{ele}_{count}')\n",
    "                count+=1\n",
    "                continue\n",
    "            cols.append(column)\n",
    "        df.columns = cols"
   ]
  },
  {
   "cell_type": "code",
   "execution_count": 9,
   "metadata": {
    "tags": []
   },
   "outputs": [],
   "source": [
    "def add(x,y):\n",
    "    result = x+y\n",
    "    return(result)"
   ]
  },
  {
   "cell_type": "markdown",
   "metadata": {},
   "source": [
    "# All player Goalkeeping stats"
   ]
  },
  {
   "cell_type": "code",
   "execution_count": 10,
   "metadata": {},
   "outputs": [],
   "source": [
    "standing_url = \"https://fbref.com/en/comps/9/Premier-League-Stats\"\n",
    "data = requests.get(standing_url)\n",
    "soup = BeautifulSoup(data.text, 'lxml')\n",
    "standings_table = soup.select('table.stats_table')[0]\n",
    "links = standings_table.find_all('a')\n",
    "links = [l.get(\"href\") for l in links]\n",
    "links = [l for l in links if 'squads' in l]\n",
    "team_urls = [f\"https://fbref.com{l}\" for l in links]\n",
    "all_PlayerGoalkeepingStat = []\n",
    "\n",
    "\n",
    "for team_url in team_urls:\n",
    "    team_name = team_url.split(\"/\")[-1].replace(\"-Stats\", \"\").replace(\"-\",\" \")\n",
    "\n",
    "    \n",
    "    data = requests.get(team_url)\n",
    "    GoalkeepingStat = pd.read_html(data.text, match = \"Goalkeeping \")[0]\n",
    "    GoalkeepingStat.columns = GoalkeepingStat.columns.droplevel()\n",
    "    GoalkeepingStat[\"Club\"] = mapping[team_name]\n",
    "    GoalkeepingStat.drop(GoalkeepingStat.tail(2).index, inplace=True)\n",
    "    all_PlayerGoalkeepingStat.append(GoalkeepingStat)\n",
    "    time.sleep(2)    \n",
    "\n",
    "GoalkeepingStat_df = pd.concat(all_PlayerGoalkeepingStat)"
   ]
  },
  {
   "cell_type": "code",
   "execution_count": 11,
   "metadata": {},
   "outputs": [],
   "source": [
    "RepeatedColumn = ['Save%']\n",
    "renameduplicatecolumns(RepeatedColumn, GoalkeepingStat_df)"
   ]
  },
  {
   "cell_type": "code",
   "execution_count": 12,
   "metadata": {},
   "outputs": [],
   "source": [
    "# sourcedestcompare('PlayerPassingStat', PassingStat_df)"
   ]
  },
  {
   "cell_type": "code",
   "execution_count": 13,
   "metadata": {},
   "outputs": [],
   "source": [
    "GoalkeepingStat_df[\"Season\"] = \"2023/2024\""
   ]
  },
  {
   "cell_type": "code",
   "execution_count": 14,
   "metadata": {},
   "outputs": [
    {
     "data": {
      "text/plain": [
       "-1"
      ]
     },
     "execution_count": 14,
     "metadata": {},
     "output_type": "execute_result"
    }
   ],
   "source": [
    "# Send to database (if i want to replace table add if_exists='replace' to the parameter)\n",
    "GoalkeepingStat_df[\"Round\"] = Last_Round\n",
    "GoalkeepingStat_df.to_sql('PlayerGoalkeepingStat', engine, if_exists='append')"
   ]
  },
  {
   "cell_type": "markdown",
   "metadata": {},
   "source": [
    "##### Get League's Squad Goalkeeping data"
   ]
  },
  {
   "cell_type": "code",
   "execution_count": 15,
   "metadata": {},
   "outputs": [],
   "source": [
    "data = requests.get(\"https://fbref.com/en/comps/9/Premier-League-Stats\")\n",
    "\n",
    "\n",
    "squad_Goalkeeping = pd.read_html(data.text, match = \"Squad Goalkeeping \")[0]\n",
    "\n",
    "squad_Goalkeeping.columns = squad_Goalkeeping.columns.droplevel()"
   ]
  },
  {
   "cell_type": "code",
   "execution_count": 16,
   "metadata": {},
   "outputs": [],
   "source": [
    "testlist = ['Save%']\n",
    "renameduplicatecolumns(testlist, squad_Goalkeeping)"
   ]
  },
  {
   "cell_type": "code",
   "execution_count": 17,
   "metadata": {},
   "outputs": [],
   "source": [
    "squad_Goalkeeping[\"Season\"] = \"2023/2024\""
   ]
  },
  {
   "cell_type": "code",
   "execution_count": 18,
   "metadata": {
    "tags": []
   },
   "outputs": [
    {
     "data": {
      "text/plain": [
       "-1"
      ]
     },
     "execution_count": 18,
     "metadata": {},
     "output_type": "execute_result"
    }
   ],
   "source": [
    "# Send to database (if i want to replace table add if_exists='replace' to the parameter)\n",
    "squad_Goalkeeping[\"Round\"] = Last_Round\n",
    "squad_Goalkeeping.to_sql('SquadGoalkeepingStat', engine, if_exists='append')"
   ]
  },
  {
   "cell_type": "code",
   "execution_count": null,
   "metadata": {},
   "outputs": [],
   "source": []
  },
  {
   "cell_type": "code",
   "execution_count": null,
   "metadata": {},
   "outputs": [],
   "source": []
  },
  {
   "cell_type": "markdown",
   "metadata": {},
   "source": [
    "# All player AdvancedGoalkeeping stats"
   ]
  },
  {
   "cell_type": "code",
   "execution_count": 19,
   "metadata": {},
   "outputs": [],
   "source": [
    "standing_url = \"https://fbref.com/en/comps/9/Premier-League-Stats\"\n",
    "data = requests.get(standing_url)\n",
    "soup = BeautifulSoup(data.text, 'lxml')\n",
    "standings_table = soup.select('table.stats_table')[0]\n",
    "links = standings_table.find_all('a')\n",
    "links = [l.get(\"href\") for l in links]\n",
    "links = [l for l in links if 'squads' in l]\n",
    "team_urls = [f\"https://fbref.com{l}\" for l in links]\n",
    "all_PlayerAdvancedGoalkeepingStat = []\n",
    "\n",
    "\n",
    "for team_url in team_urls:\n",
    "    team_name = team_url.split(\"/\")[-1].replace(\"-Stats\", \"\").replace(\"-\",\" \")\n",
    "\n",
    "    \n",
    "    data = requests.get(team_url)\n",
    "    AdvancedGoalkeepingStat = pd.read_html(data.text, match = \"Advanced Goalkeeping \")[0]\n",
    "    AdvancedGoalkeepingStat.columns = AdvancedGoalkeepingStat.columns.droplevel()\n",
    "    AdvancedGoalkeepingStat[\"Club\"] = mapping[team_name]\n",
    "    AdvancedGoalkeepingStat.drop(AdvancedGoalkeepingStat.tail(2).index, inplace=True)\n",
    "    all_PlayerAdvancedGoalkeepingStat.append(AdvancedGoalkeepingStat)\n",
    "    time.sleep(2)    \n",
    "\n",
    "AdvancedGoalkeepingStat_df = pd.concat(all_PlayerAdvancedGoalkeepingStat)"
   ]
  },
  {
   "cell_type": "code",
   "execution_count": 20,
   "metadata": {},
   "outputs": [],
   "source": [
    "RepeatedColumn = ['Att', 'Launch%', 'AvgLen']\n",
    "renameduplicatecolumns(RepeatedColumn, AdvancedGoalkeepingStat_df)"
   ]
  },
  {
   "cell_type": "code",
   "execution_count": 21,
   "metadata": {},
   "outputs": [],
   "source": [
    "# sourcedestcompare('PlayerPassingStat', PassingStat_df)"
   ]
  },
  {
   "cell_type": "code",
   "execution_count": 22,
   "metadata": {},
   "outputs": [],
   "source": [
    "AdvancedGoalkeepingStat_df[\"Season\"] = \"2023/2024\""
   ]
  },
  {
   "cell_type": "code",
   "execution_count": 23,
   "metadata": {},
   "outputs": [
    {
     "data": {
      "text/plain": [
       "Index(['Player', 'Nation', 'Pos', 'Age', '90s', 'GA', 'PKA', 'FK', 'CK', 'OG',\n",
       "       'PSxG', 'PSxG/SoT', 'PSxG+/-', '/90', 'Cmp', 'Att_1', 'Cmp%',\n",
       "       'Att (GK)', 'Thr', 'Launch%_1', 'AvgLen_1', 'Att_2', 'Launch%_2',\n",
       "       'AvgLen_2', 'Opp', 'Stp', 'Stp%', '#OPA', '#OPA/90', 'AvgDist',\n",
       "       'Matches', 'Club', 'Season'],\n",
       "      dtype='object')"
      ]
     },
     "execution_count": 23,
     "metadata": {},
     "output_type": "execute_result"
    }
   ],
   "source": [
    "AdvancedGoalkeepingStat_df.columns"
   ]
  },
  {
   "cell_type": "code",
   "execution_count": 24,
   "metadata": {},
   "outputs": [
    {
     "name": "stdout",
     "output_type": "stream",
     "text": [
      "['Att_3', 'Round']\n",
      "[]\n"
     ]
    },
    {
     "name": "stderr",
     "output_type": "stream",
     "text": [
      "C:\\Users\\User\\AppData\\Local\\Temp\\ipykernel_5404\\3587502263.py:9: UserWarning: pandas only supports SQLAlchemy connectable (engine/connection) or database string URI or sqlite3 DBAPI2 connection. Other DBAPI2 objects are not tested. Please consider using SQLAlchemy.\n",
      "  df_sqlcolumnlist = pd.read_sql(sql_columnlist, conn)\n"
     ]
    }
   ],
   "source": [
    "sourcedestcompare('PlayerAdvancedGoalkeepingStat', AdvancedGoalkeepingStat_df)"
   ]
  },
  {
   "cell_type": "code",
   "execution_count": 25,
   "metadata": {},
   "outputs": [
    {
     "data": {
      "text/plain": [
       "-1"
      ]
     },
     "execution_count": 25,
     "metadata": {},
     "output_type": "execute_result"
    }
   ],
   "source": [
    "# Send to database (if i want to replace table add if_exists='replace' to the parameter)\n",
    "AdvancedGoalkeepingStat_df[\"Round\"] = Last_Round\n",
    "AdvancedGoalkeepingStat_df.to_sql('PlayerAdvancedGoalkeepingStat', engine, if_exists='append')"
   ]
  },
  {
   "cell_type": "markdown",
   "metadata": {},
   "source": [
    "##### Get League's Squad AdvancedGoalkeeping data"
   ]
  },
  {
   "cell_type": "code",
   "execution_count": 26,
   "metadata": {},
   "outputs": [],
   "source": [
    "data = requests.get(\"https://fbref.com/en/comps/9/Premier-League-Stats\")\n",
    "\n",
    "\n",
    "squad_AdvancedGoalkeeping = pd.read_html(data.text, match = \"Squad Advanced Goalkeeping \")[0]\n",
    "\n",
    "squad_AdvancedGoalkeeping.columns = squad_AdvancedGoalkeeping.columns.droplevel()"
   ]
  },
  {
   "cell_type": "code",
   "execution_count": 27,
   "metadata": {},
   "outputs": [],
   "source": [
    "RepeatedColumn = ['Att', 'Launch%', 'AvgLen']\n",
    "renameduplicatecolumns(RepeatedColumn, squad_AdvancedGoalkeeping)"
   ]
  },
  {
   "cell_type": "code",
   "execution_count": 28,
   "metadata": {},
   "outputs": [],
   "source": [
    "squad_AdvancedGoalkeeping[\"Season\"] = \"2023/2024\""
   ]
  },
  {
   "cell_type": "code",
   "execution_count": 29,
   "metadata": {},
   "outputs": [
    {
     "name": "stdout",
     "output_type": "stream",
     "text": [
      "['MP', 'Starts', 'Min', 'GA90', 'SoTA', 'Saves', 'Save%_1', 'W', 'D', 'L', 'CS', 'CS%', 'PKatt', 'PKsv', 'PKm', 'Save%_2', 'Round']\n",
      "['FK', 'CK', 'OG', 'PSxG', 'PSxG/SoT', 'PSxG+/-', '/90', 'Cmp', 'Att_1', 'Cmp%', 'Att (GK)', 'Thr', 'Launch%_1', 'AvgLen_1', 'Att_2', 'Launch%_2', 'AvgLen_2', 'Opp', 'Stp', 'Stp%', '#OPA', '#OPA/90', 'AvgDist']\n"
     ]
    },
    {
     "name": "stderr",
     "output_type": "stream",
     "text": [
      "C:\\Users\\User\\AppData\\Local\\Temp\\ipykernel_5404\\3587502263.py:9: UserWarning: pandas only supports SQLAlchemy connectable (engine/connection) or database string URI or sqlite3 DBAPI2 connection. Other DBAPI2 objects are not tested. Please consider using SQLAlchemy.\n",
      "  df_sqlcolumnlist = pd.read_sql(sql_columnlist, conn)\n"
     ]
    }
   ],
   "source": [
    "sourcedestcompare('SquadGoalkeepingStat', squad_AdvancedGoalkeeping)"
   ]
  },
  {
   "cell_type": "code",
   "execution_count": 30,
   "metadata": {
    "tags": []
   },
   "outputs": [],
   "source": [
    "# issue with this codeline\n",
    "# Send to database (if i want to replace table add if_exists='replace' to the parameter)\n",
    "# squad_AdvancedGoalkeeping[\"Round\"] = Last_Round\n",
    "# squad_AdvancedGoalkeeping.to_sql('', engine, if_exists='append')"
   ]
  },
  {
   "cell_type": "code",
   "execution_count": null,
   "metadata": {},
   "outputs": [],
   "source": []
  },
  {
   "cell_type": "code",
   "execution_count": null,
   "metadata": {},
   "outputs": [],
   "source": []
  },
  {
   "cell_type": "markdown",
   "metadata": {},
   "source": [
    "# All players passing stats"
   ]
  },
  {
   "cell_type": "code",
   "execution_count": 31,
   "metadata": {},
   "outputs": [],
   "source": [
    "standing_url = \"https://fbref.com/en/comps/9/Premier-League-Stats\"\n",
    "data = requests.get(standing_url)\n",
    "soup = BeautifulSoup(data.text, 'lxml')\n",
    "standings_table = soup.select('table.stats_table')[0]\n",
    "links = standings_table.find_all('a')\n",
    "links = [l.get(\"href\") for l in links]\n",
    "links = [l for l in links if 'squads' in l]\n",
    "team_urls = [f\"https://fbref.com{l}\" for l in links]\n",
    "all_PlayerpassingStat = []\n",
    "\n",
    "\n",
    "for team_url in team_urls:\n",
    "    team_name = team_url.split(\"/\")[-1].replace(\"-Stats\", \"\").replace(\"-\",\" \")\n",
    "\n",
    "    \n",
    "    data = requests.get(team_url)\n",
    "    PassingStat = pd.read_html(data.text, match = \"Passing \")[0]\n",
    "    PassingStat.columns = PassingStat.columns.droplevel()\n",
    "    PassingStat[\"Club\"] = mapping[team_name]\n",
    "    PassingStat.drop(PassingStat.tail(2).index, inplace=True)\n",
    "    all_PlayerpassingStat.append(PassingStat)\n",
    "    time.sleep(2)    \n",
    "\n",
    "PassingStat_df = pd.concat(all_PlayerpassingStat)"
   ]
  },
  {
   "cell_type": "code",
   "execution_count": 32,
   "metadata": {},
   "outputs": [],
   "source": [
    "testlist = ['Cmp','Att','Cmp%']\n",
    "renameduplicatecolumns(testlist, PassingStat_df)"
   ]
  },
  {
   "cell_type": "code",
   "execution_count": 33,
   "metadata": {},
   "outputs": [
    {
     "name": "stdout",
     "output_type": "stream",
     "text": [
      "['Round', 'Season']\n",
      "[]\n"
     ]
    },
    {
     "name": "stderr",
     "output_type": "stream",
     "text": [
      "C:\\Users\\User\\AppData\\Local\\Temp\\ipykernel_5404\\3587502263.py:9: UserWarning: pandas only supports SQLAlchemy connectable (engine/connection) or database string URI or sqlite3 DBAPI2 connection. Other DBAPI2 objects are not tested. Please consider using SQLAlchemy.\n",
      "  df_sqlcolumnlist = pd.read_sql(sql_columnlist, conn)\n"
     ]
    }
   ],
   "source": [
    "sourcedestcompare('PlayerPassingStat', PassingStat_df)"
   ]
  },
  {
   "cell_type": "code",
   "execution_count": 34,
   "metadata": {},
   "outputs": [],
   "source": [
    "PassingStat_df[\"Season\"] = \"2023/2024\""
   ]
  },
  {
   "cell_type": "code",
   "execution_count": 35,
   "metadata": {},
   "outputs": [
    {
     "data": {
      "text/plain": [
       "-1"
      ]
     },
     "execution_count": 35,
     "metadata": {},
     "output_type": "execute_result"
    }
   ],
   "source": [
    "# Send to database (if i want to replace table add if_exists='replace' to the parameter)\n",
    "PassingStat_df[\"Round\"] = Last_Round\n",
    "PassingStat_df.to_sql('PlayerPassingStat', engine, if_exists='append')"
   ]
  },
  {
   "cell_type": "markdown",
   "metadata": {},
   "source": [
    "##### Get League's Squad passing data"
   ]
  },
  {
   "cell_type": "code",
   "execution_count": 36,
   "metadata": {},
   "outputs": [],
   "source": [
    "data = requests.get(\"https://fbref.com/en/comps/9/Premier-League-Stats\")\n",
    "\n",
    "\n",
    "squad_passing = pd.read_html(data.text, match = \"Squad Passing \")[0]\n",
    "\n",
    "squad_passing.columns = squad_passing.columns.droplevel()"
   ]
  },
  {
   "cell_type": "code",
   "execution_count": 37,
   "metadata": {},
   "outputs": [],
   "source": [
    "testlist = ['Cmp','Att','Cmp%']\n",
    "renameduplicatecolumns(testlist, squad_passing)"
   ]
  },
  {
   "cell_type": "code",
   "execution_count": 38,
   "metadata": {},
   "outputs": [],
   "source": [
    "squad_passing[\"Season\"] = \"2023/2024\""
   ]
  },
  {
   "cell_type": "code",
   "execution_count": 39,
   "metadata": {},
   "outputs": [
    {
     "data": {
      "text/plain": [
       "-1"
      ]
     },
     "execution_count": 39,
     "metadata": {},
     "output_type": "execute_result"
    }
   ],
   "source": [
    "# Send to database (if i want to replace table add if_exists='replace' to the parameter)\n",
    "squad_passing[\"Round\"] = Last_Round\n",
    "squad_passing.to_sql('SquadPassingStat', engine, if_exists='append')"
   ]
  },
  {
   "cell_type": "markdown",
   "metadata": {},
   "source": [
    "# All players standard stats"
   ]
  },
  {
   "cell_type": "code",
   "execution_count": 40,
   "metadata": {},
   "outputs": [],
   "source": [
    "standing_url = \"https://fbref.com/en/comps/9/Premier-League-Stats\"\n",
    "\n",
    "\n",
    "data = requests.get(standing_url)\n",
    "\n",
    "\n",
    "soup = BeautifulSoup(data.text, 'lxml')\n",
    "standings_table = soup.select('table.stats_table')[0]\n",
    "links = standings_table.find_all('a')\n",
    "links = [l.get(\"href\") for l in links]\n",
    "links = [l for l in links if 'squads' in l]\n",
    "team_urls = [f\"https://fbref.com{l}\" for l in links]\n",
    "\n",
    "\n",
    "all_StandardStat = []\n",
    "\n",
    "for team_url in team_urls:\n",
    "    team_name = team_url.split(\"/\")[-1].replace(\"-Stats\", \"\").replace(\"-\",\" \")\n",
    "\n",
    "    \n",
    "    data = requests.get(team_url)\n",
    "    import pandas as pd\n",
    "    StandardStat = pd.read_html(data.text, match = \"Standard Stats \")[0]\n",
    "    StandardStat.columns = StandardStat.columns.droplevel()\n",
    "    StandardStat[\"Club\"] = mapping[team_name]\n",
    "    StandardStat.drop(StandardStat.tail(2).index, inplace=True)\n",
    "    StandardStat.drop(['Matches'], axis=1,inplace=True)\n",
    "    all_StandardStat.append(StandardStat)\n",
    "    time.sleep(2)    \n",
    "\n",
    "StandardStat_df = pd.concat(all_StandardStat)"
   ]
  },
  {
   "cell_type": "code",
   "execution_count": 41,
   "metadata": {},
   "outputs": [],
   "source": [
    "testlist = ['Gls','Ast','xG','xAG']\n",
    "renameduplicatecolumns(testlist, StandardStat_df)"
   ]
  },
  {
   "cell_type": "code",
   "execution_count": 42,
   "metadata": {},
   "outputs": [
    {
     "name": "stdout",
     "output_type": "stream",
     "text": [
      "['Round', 'Season']\n",
      "['PrgC', 'PrgP', 'PrgR']\n"
     ]
    },
    {
     "name": "stderr",
     "output_type": "stream",
     "text": [
      "C:\\Users\\User\\AppData\\Local\\Temp\\ipykernel_5404\\3587502263.py:9: UserWarning: pandas only supports SQLAlchemy connectable (engine/connection) or database string URI or sqlite3 DBAPI2 connection. Other DBAPI2 objects are not tested. Please consider using SQLAlchemy.\n",
      "  df_sqlcolumnlist = pd.read_sql(sql_columnlist, conn)\n"
     ]
    }
   ],
   "source": [
    "sourcedestcompare('PlayerStandardStat', StandardStat_df)"
   ]
  },
  {
   "cell_type": "code",
   "execution_count": 43,
   "metadata": {},
   "outputs": [],
   "source": [
    "StandardStat_df = StandardStat_df.drop(['PrgC','PrgP','PrgR'],axis=1)"
   ]
  },
  {
   "cell_type": "code",
   "execution_count": 44,
   "metadata": {},
   "outputs": [],
   "source": [
    "# StandardStat_df.columns"
   ]
  },
  {
   "cell_type": "code",
   "execution_count": 45,
   "metadata": {},
   "outputs": [],
   "source": [
    "StandardStat_df[\"Season\"] = \"2023/2024\""
   ]
  },
  {
   "cell_type": "code",
   "execution_count": 46,
   "metadata": {},
   "outputs": [
    {
     "data": {
      "text/plain": [
       "-1"
      ]
     },
     "execution_count": 46,
     "metadata": {},
     "output_type": "execute_result"
    }
   ],
   "source": [
    "\n",
    "# Send to database (if i want to replace table add if_exists='replace' to the parameter)\n",
    "StandardStat_df[\"Round\"] = Last_Round\n",
    "StandardStat_df.to_sql('PlayerStandardStat', engine, if_exists='append')"
   ]
  },
  {
   "cell_type": "markdown",
   "metadata": {},
   "source": [
    "##### Get League's Squad standart stat"
   ]
  },
  {
   "cell_type": "code",
   "execution_count": 47,
   "metadata": {},
   "outputs": [],
   "source": [
    "data = requests.get(\"https://fbref.com/en/comps/9/Premier-League-Stats\")\n",
    "squad_standard = pd.read_html(data.text, match = \"Squad Standard Stats \")[0]\n",
    "squad_standard.columns = squad_standard.columns.droplevel()\n",
    "# chanages the duplicate column header at the same time. NO GOOD FOR WHAT I WANT\n",
    "# squad_standard.rename(columns={squad_standard.columns[15]: \"Per90Gls\", squad_standard.columns[16]: \"Per90Ast\"}, inplace=True)\n",
    "# squad_standard"
   ]
  },
  {
   "cell_type": "code",
   "execution_count": 48,
   "metadata": {},
   "outputs": [],
   "source": [
    "testlist = ['Gls','Ast','xG','xAG']\n",
    "renameduplicatecolumns(testlist, squad_standard)"
   ]
  },
  {
   "cell_type": "code",
   "execution_count": 49,
   "metadata": {},
   "outputs": [
    {
     "name": "stdout",
     "output_type": "stream",
     "text": [
      "['Round', 'Season']\n",
      "['PrgC', 'PrgP']\n"
     ]
    },
    {
     "name": "stderr",
     "output_type": "stream",
     "text": [
      "C:\\Users\\User\\AppData\\Local\\Temp\\ipykernel_5404\\3587502263.py:9: UserWarning: pandas only supports SQLAlchemy connectable (engine/connection) or database string URI or sqlite3 DBAPI2 connection. Other DBAPI2 objects are not tested. Please consider using SQLAlchemy.\n",
      "  df_sqlcolumnlist = pd.read_sql(sql_columnlist, conn)\n"
     ]
    }
   ],
   "source": [
    "sourcedestcompare('SquadStandardStat', squad_standard)"
   ]
  },
  {
   "cell_type": "code",
   "execution_count": 50,
   "metadata": {},
   "outputs": [],
   "source": [
    "squad_standard = squad_standard.drop(['PrgC','PrgP'],axis=1)"
   ]
  },
  {
   "cell_type": "code",
   "execution_count": 51,
   "metadata": {},
   "outputs": [],
   "source": [
    "squad_standard[\"Season\"] = \"2023/2024\""
   ]
  },
  {
   "cell_type": "code",
   "execution_count": 52,
   "metadata": {
    "tags": []
   },
   "outputs": [
    {
     "data": {
      "text/plain": [
       "-1"
      ]
     },
     "execution_count": 52,
     "metadata": {},
     "output_type": "execute_result"
    }
   ],
   "source": [
    "\n",
    "# Send to database (if i want to replace table add if_exists='replace' to the parameter)\n",
    "squad_standard[\"Round\"] = Last_Round\n",
    "squad_standard.to_sql('SquadStandardStat', engine, if_exists='append')"
   ]
  },
  {
   "cell_type": "markdown",
   "metadata": {},
   "source": [
    "# All League's Player shooting data"
   ]
  },
  {
   "cell_type": "code",
   "execution_count": 53,
   "metadata": {},
   "outputs": [],
   "source": [
    "standing_url = \"https://fbref.com/en/comps/9/Premier-League-Stats\"\n",
    "data = requests.get(standing_url)\n",
    "soup = BeautifulSoup(data.text, 'lxml')\n",
    "standings_table = soup.select('table.stats_table')[0]\n",
    "links = standings_table.find_all('a')\n",
    "links = [l.get(\"href\") for l in links]\n",
    "links = [l for l in links if 'squads' in l]\n",
    "team_urls = [f\"https://fbref.com{l}\" for l in links]\n",
    "all_PlayershootingStat = []\n",
    "\n",
    "\n",
    "for team_url in team_urls:\n",
    "    team_name = team_url.split(\"/\")[-1].replace(\"-Stats\", \"\").replace(\"-\",\" \")\n",
    "\n",
    "    \n",
    "    data = requests.get(team_url)\n",
    "    ShootingStat = pd.read_html(data.text, match = \"Shooting \")[0]\n",
    "    ShootingStat.columns = ShootingStat.columns.droplevel()\n",
    "    ShootingStat[\"Club\"] = mapping[team_name]\n",
    "    ShootingStat.drop(ShootingStat.tail(2).index, inplace=True)\n",
    "\n",
    "    all_PlayershootingStat.append(ShootingStat)\n",
    "    time.sleep(2)    \n",
    "\n",
    "ShootingStat_df = pd.concat(all_PlayershootingStat)  "
   ]
  },
  {
   "cell_type": "code",
   "execution_count": 54,
   "metadata": {},
   "outputs": [],
   "source": [
    "ShootingStat_df[\"Season\"] = \"2023/2024\""
   ]
  },
  {
   "cell_type": "code",
   "execution_count": 55,
   "metadata": {
    "tags": []
   },
   "outputs": [
    {
     "data": {
      "text/plain": [
       "-1"
      ]
     },
     "execution_count": 55,
     "metadata": {},
     "output_type": "execute_result"
    }
   ],
   "source": [
    "\n",
    "# Send to database (if i want to replace table add if_exists='replace' to the parameter)\n",
    "ShootingStat_df[\"Round\"] = Last_Round\n",
    "ShootingStat_df.to_sql('PlayerShootingStat', engine, if_exists='append')"
   ]
  },
  {
   "cell_type": "markdown",
   "metadata": {
    "tags": []
   },
   "source": [
    "##### Get League's Squad shooting data"
   ]
  },
  {
   "cell_type": "code",
   "execution_count": 56,
   "metadata": {},
   "outputs": [],
   "source": [
    "data = requests.get(\"https://fbref.com/en/comps/9/Premier-League-Stats\")\n",
    "squad_shooting = pd.read_html(data.text, match = \"Shooting \")[0]\n",
    "squad_shooting.columns = squad_shooting.columns.droplevel()\n",
    "# squad_shooting"
   ]
  },
  {
   "cell_type": "code",
   "execution_count": 57,
   "metadata": {},
   "outputs": [],
   "source": [
    "squad_shooting[\"Season\"] = \"2023/2024\""
   ]
  },
  {
   "cell_type": "code",
   "execution_count": 58,
   "metadata": {},
   "outputs": [
    {
     "data": {
      "text/plain": [
       "-1"
      ]
     },
     "execution_count": 58,
     "metadata": {},
     "output_type": "execute_result"
    }
   ],
   "source": [
    "\n",
    "# Send to database (if i want to replace table add if_exists='replace' to the parameter)\n",
    "squad_shooting[\"Round\"] = Last_Round\n",
    "squad_shooting.to_sql('SquadShootingStat', engine, if_exists='append')"
   ]
  },
  {
   "cell_type": "markdown",
   "metadata": {},
   "source": [
    " \n",
    " \n",
    " \n",
    "  "
   ]
  },
  {
   "cell_type": "markdown",
   "metadata": {},
   "source": [
    "# All League's Player passtype data"
   ]
  },
  {
   "cell_type": "code",
   "execution_count": 59,
   "metadata": {},
   "outputs": [],
   "source": [
    "standing_url = \"https://fbref.com/en/comps/9/Premier-League-Stats\"\n",
    "data = requests.get(standing_url)\n",
    "soup = BeautifulSoup(data.text, 'lxml')\n",
    "standings_table = soup.select('table.stats_table')[0]\n",
    "links = standings_table.find_all('a')\n",
    "links = [l.get(\"href\") for l in links]\n",
    "links = [l for l in links if 'squads' in l]\n",
    "team_urls = [f\"https://fbref.com{l}\" for l in links]\n",
    "\n",
    "\n",
    "all_PlayerpasstypeStat = []\n",
    "\n",
    "\n",
    "for team_url in team_urls:\n",
    "    team_name = team_url.split(\"/\")[-1].replace(\"-Stats\", \"\").replace(\"-\",\" \")\n",
    "    data = requests.get(team_url)\n",
    "    \n",
    "    PasstypeStat = pd.read_html(data.text, match = \"Pass Types \")[0]\n",
    "    PasstypeStat.columns = PasstypeStat.columns.droplevel()\n",
    "    PasstypeStat[\"Club\"] = mapping[team_name]\n",
    "    PasstypeStat.drop(PasstypeStat.tail(2).index, inplace=True)\n",
    "\n",
    "    all_PlayerpasstypeStat.append(PasstypeStat)\n",
    "    time.sleep(2)    \n",
    "\n",
    "PasstypeStat_df = pd.concat(all_PlayerpasstypeStat)  "
   ]
  },
  {
   "cell_type": "code",
   "execution_count": 60,
   "metadata": {},
   "outputs": [],
   "source": [
    "PasstypeStat_df[\"Season\"] = \"2023/2024\""
   ]
  },
  {
   "cell_type": "code",
   "execution_count": 61,
   "metadata": {},
   "outputs": [
    {
     "data": {
      "text/plain": [
       "-1"
      ]
     },
     "execution_count": 61,
     "metadata": {},
     "output_type": "execute_result"
    }
   ],
   "source": [
    "# Send to database (if i want to replace table add if_exists='replace' to the parameter)\n",
    "PasstypeStat_df[\"Round\"] = Last_Round\n",
    "PasstypeStat_df.to_sql('PlayerPasstypeStat', engine, if_exists='append')"
   ]
  },
  {
   "cell_type": "code",
   "execution_count": null,
   "metadata": {},
   "outputs": [],
   "source": []
  },
  {
   "cell_type": "markdown",
   "metadata": {},
   "source": [
    "### Get League's Squad passtype data"
   ]
  },
  {
   "cell_type": "code",
   "execution_count": 62,
   "metadata": {},
   "outputs": [],
   "source": [
    "data = requests.get(\"https://fbref.com/en/comps/9/Premier-League-Stats\")\n",
    "squad_passtype = pd.read_html(data.text, match = \"Pass Types \")[0]\n",
    "squad_passtype.columns = squad_passtype.columns.droplevel()\n",
    "# squad_passtype"
   ]
  },
  {
   "cell_type": "code",
   "execution_count": 63,
   "metadata": {},
   "outputs": [],
   "source": [
    "squad_passtype[\"Season\"] = \"2023/2024\""
   ]
  },
  {
   "cell_type": "code",
   "execution_count": 64,
   "metadata": {},
   "outputs": [
    {
     "data": {
      "text/plain": [
       "-1"
      ]
     },
     "execution_count": 64,
     "metadata": {},
     "output_type": "execute_result"
    }
   ],
   "source": [
    "# Send to database (if i want to replace table add if_exists='replace' to the parameter)\n",
    "squad_passtype[\"Round\"] = Last_Round\n",
    "squad_passtype.to_sql('SquadPasstypeStat', engine, if_exists='append')"
   ]
  },
  {
   "cell_type": "code",
   "execution_count": null,
   "metadata": {},
   "outputs": [],
   "source": []
  },
  {
   "cell_type": "code",
   "execution_count": null,
   "metadata": {},
   "outputs": [],
   "source": []
  },
  {
   "cell_type": "code",
   "execution_count": null,
   "metadata": {},
   "outputs": [],
   "source": []
  },
  {
   "cell_type": "markdown",
   "metadata": {},
   "source": [
    "# All League's Player chances data"
   ]
  },
  {
   "cell_type": "code",
   "execution_count": 65,
   "metadata": {},
   "outputs": [],
   "source": [
    "standing_url = \"https://fbref.com/en/comps/9/Premier-League-Stats\"\n",
    "data = requests.get(standing_url)\n",
    "soup = BeautifulSoup(data.text, 'lxml')\n",
    "standings_table = soup.select('table.stats_table')[0]\n",
    "links = standings_table.find_all('a')\n",
    "links = [l.get(\"href\") for l in links]\n",
    "links = [l for l in links if 'squads' in l]\n",
    "team_urls = [f\"https://fbref.com{l}\" for l in links]\n",
    "\n",
    "\n",
    "all_PlayerchancesStat = []\n",
    "\n",
    "for team_url in team_urls:\n",
    "    team_name = team_url.split(\"/\")[-1].replace(\"-Stats\", \"\").replace(\"-\",\" \")\n",
    "    data = requests.get(team_url)\n",
    "    \n",
    "    ChancesStat = pd.read_html(data.text, match = \"Goal and Shot Creation \")[0]\n",
    "    ChancesStat.columns = ChancesStat.columns.droplevel()\n",
    "    ChancesStat[\"Club\"] = mapping[team_name]\n",
    "    ChancesStat.drop(ChancesStat.tail(2).index, inplace=True)\n",
    "\n",
    "    all_PlayerchancesStat.append(ChancesStat)\n",
    "    time.sleep(2)    \n",
    "\n",
    "ChancesStat_df = pd.concat(all_PlayerchancesStat)  "
   ]
  },
  {
   "cell_type": "code",
   "execution_count": 66,
   "metadata": {},
   "outputs": [],
   "source": [
    "testlist = ['PassLive','PassDead','TO','Sh','Fld','Def']\n",
    "renameduplicatecolumns(testlist, ChancesStat_df)"
   ]
  },
  {
   "cell_type": "code",
   "execution_count": 67,
   "metadata": {},
   "outputs": [
    {
     "name": "stdout",
     "output_type": "stream",
     "text": [
      "['Round', 'Season']\n",
      "[]\n"
     ]
    },
    {
     "name": "stderr",
     "output_type": "stream",
     "text": [
      "C:\\Users\\User\\AppData\\Local\\Temp\\ipykernel_5404\\3587502263.py:9: UserWarning: pandas only supports SQLAlchemy connectable (engine/connection) or database string URI or sqlite3 DBAPI2 connection. Other DBAPI2 objects are not tested. Please consider using SQLAlchemy.\n",
      "  df_sqlcolumnlist = pd.read_sql(sql_columnlist, conn)\n"
     ]
    }
   ],
   "source": [
    "sourcedestcompare('PlayerChancesStat', ChancesStat_df)"
   ]
  },
  {
   "cell_type": "code",
   "execution_count": 68,
   "metadata": {},
   "outputs": [],
   "source": [
    "ChancesStat_df[\"Season\"] = \"2023/2024\""
   ]
  },
  {
   "cell_type": "code",
   "execution_count": 69,
   "metadata": {},
   "outputs": [
    {
     "data": {
      "text/plain": [
       "-1"
      ]
     },
     "execution_count": 69,
     "metadata": {},
     "output_type": "execute_result"
    }
   ],
   "source": [
    "# Send to database (if i want to replace table add if_exists='replace' to the parameter)\n",
    "ChancesStat_df[\"Round\"] = Last_Round\n",
    "ChancesStat_df.to_sql('PlayerChancesStat', engine, if_exists='append')"
   ]
  },
  {
   "cell_type": "code",
   "execution_count": null,
   "metadata": {},
   "outputs": [],
   "source": []
  },
  {
   "cell_type": "markdown",
   "metadata": {},
   "source": [
    "##### Get League's Squad chances data"
   ]
  },
  {
   "cell_type": "code",
   "execution_count": 70,
   "metadata": {},
   "outputs": [],
   "source": [
    "data = requests.get(\"https://fbref.com/en/comps/9/Premier-League-Stats\")\n",
    "squad_chances = pd.read_html(data.text, match = \"Goal and Shot Creation \")[0]\n",
    "squad_chances.columns = squad_chances.columns.droplevel()\n",
    "# squad_chances"
   ]
  },
  {
   "cell_type": "code",
   "execution_count": 71,
   "metadata": {},
   "outputs": [],
   "source": [
    "testlist = ['PassLive','PassDead','TO','Sh','Fld','Def']\n",
    "renameduplicatecolumns(testlist, squad_chances)"
   ]
  },
  {
   "cell_type": "code",
   "execution_count": 72,
   "metadata": {},
   "outputs": [],
   "source": [
    "squad_chances[\"Season\"] = \"2023/2024\""
   ]
  },
  {
   "cell_type": "code",
   "execution_count": 73,
   "metadata": {},
   "outputs": [
    {
     "data": {
      "text/plain": [
       "-1"
      ]
     },
     "execution_count": 73,
     "metadata": {},
     "output_type": "execute_result"
    }
   ],
   "source": [
    "# Send to database (if i want to replace table add if_exists='replace' to the parameter)\n",
    "squad_chances[\"Round\"] = Last_Round\n",
    "squad_chances.to_sql('SquadChancesStat', engine, if_exists='append')"
   ]
  },
  {
   "cell_type": "code",
   "execution_count": null,
   "metadata": {},
   "outputs": [],
   "source": []
  },
  {
   "cell_type": "markdown",
   "metadata": {},
   "source": [
    "# All League's Player defensiveaction data"
   ]
  },
  {
   "cell_type": "code",
   "execution_count": 74,
   "metadata": {},
   "outputs": [],
   "source": [
    "standing_url = \"https://fbref.com/en/comps/9/Premier-League-Stats\"\n",
    "data = requests.get(standing_url)\n",
    "soup = BeautifulSoup(data.text, 'lxml')\n",
    "standings_table = soup.select('table.stats_table')[0]\n",
    "links = standings_table.find_all('a')\n",
    "links = [l.get(\"href\") for l in links]\n",
    "links = [l for l in links if 'squads' in l]\n",
    "team_urls = [f\"https://fbref.com{l}\" for l in links]\n",
    "\n",
    "\n",
    "all_PlayerdefensiveactionStat = []\n",
    "\n",
    "for team_url in team_urls:\n",
    "    team_name = team_url.split(\"/\")[-1].replace(\"-Stats\", \"\").replace(\"-\",\" \")\n",
    "    data = requests.get(team_url)\n",
    "    \n",
    "    DefensiveactionStat = pd.read_html(data.text, match = \"Defensive Actions \")[0]\n",
    "    DefensiveactionStat.columns = DefensiveactionStat.columns.droplevel()\n",
    "    DefensiveactionStat[\"Club\"] = mapping[team_name]\n",
    "    DefensiveactionStat.drop(DefensiveactionStat.tail(2).index, inplace=True)\n",
    "\n",
    "    all_PlayerdefensiveactionStat.append(DefensiveactionStat)\n",
    "    time.sleep(2)    \n",
    "\n",
    "DefensiveactionStat_df = pd.concat(all_PlayerdefensiveactionStat)  "
   ]
  },
  {
   "cell_type": "code",
   "execution_count": 75,
   "metadata": {},
   "outputs": [],
   "source": [
    "testlist = ['Tkl']\n",
    "renameduplicatecolumns(testlist, DefensiveactionStat_df)"
   ]
  },
  {
   "cell_type": "code",
   "execution_count": 76,
   "metadata": {},
   "outputs": [
    {
     "name": "stdout",
     "output_type": "stream",
     "text": [
      "['Past', 'Press', 'Succ', '%', 'ShSv', 'Round', 'Season']\n",
      "[]\n"
     ]
    },
    {
     "name": "stderr",
     "output_type": "stream",
     "text": [
      "C:\\Users\\User\\AppData\\Local\\Temp\\ipykernel_5404\\3587502263.py:9: UserWarning: pandas only supports SQLAlchemy connectable (engine/connection) or database string URI or sqlite3 DBAPI2 connection. Other DBAPI2 objects are not tested. Please consider using SQLAlchemy.\n",
      "  df_sqlcolumnlist = pd.read_sql(sql_columnlist, conn)\n"
     ]
    }
   ],
   "source": [
    "sourcedestcompare('PlayerDefensiveactionStat', DefensiveactionStat_df)"
   ]
  },
  {
   "cell_type": "code",
   "execution_count": 77,
   "metadata": {},
   "outputs": [
    {
     "data": {
      "text/plain": [
       "['Player',\n",
       " 'Nation',\n",
       " 'Pos',\n",
       " 'Age',\n",
       " '90s',\n",
       " 'Tkl_1',\n",
       " 'TklW',\n",
       " 'Def 3rd',\n",
       " 'Mid 3rd',\n",
       " 'Att 3rd',\n",
       " 'Tkl_2',\n",
       " 'Att',\n",
       " 'Tkl%',\n",
       " 'Lost',\n",
       " 'Blocks',\n",
       " 'Sh',\n",
       " 'Pass',\n",
       " 'Int',\n",
       " 'Tkl+Int',\n",
       " 'Clr',\n",
       " 'Err',\n",
       " 'Matches',\n",
       " 'Club']"
      ]
     },
     "execution_count": 77,
     "metadata": {},
     "output_type": "execute_result"
    }
   ],
   "source": [
    "DefensiveactionStat_df.columns.values.tolist()"
   ]
  },
  {
   "cell_type": "code",
   "execution_count": 78,
   "metadata": {},
   "outputs": [],
   "source": [
    "DefensiveactionStat_df[\"Season\"] = \"2023/2024\""
   ]
  },
  {
   "cell_type": "code",
   "execution_count": 79,
   "metadata": {},
   "outputs": [
    {
     "data": {
      "text/plain": [
       "-1"
      ]
     },
     "execution_count": 79,
     "metadata": {},
     "output_type": "execute_result"
    }
   ],
   "source": [
    "# Send to database (if i want to replace table add if_exists='replace' to the parameter)\n",
    "DefensiveactionStat_df[\"Round\"] = Last_Round\n",
    "DefensiveactionStat_df.to_sql('PlayerDefensiveactionStat', engine, if_exists='append')"
   ]
  },
  {
   "cell_type": "code",
   "execution_count": null,
   "metadata": {},
   "outputs": [],
   "source": []
  },
  {
   "cell_type": "markdown",
   "metadata": {},
   "source": [
    "##### Get League's Squad defensiveaction data"
   ]
  },
  {
   "cell_type": "code",
   "execution_count": 80,
   "metadata": {},
   "outputs": [],
   "source": [
    "data = requests.get(\"https://fbref.com/en/comps/9/Premier-League-Stats\")\n",
    "squad_defensiveaction = pd.read_html(data.text, match = \"Defensive Actions \")[0]\n",
    "squad_defensiveaction.columns = squad_defensiveaction.columns.droplevel()\n",
    "# squad_defensiveaction"
   ]
  },
  {
   "cell_type": "code",
   "execution_count": 81,
   "metadata": {},
   "outputs": [],
   "source": [
    "testlist = ['Tkl']\n",
    "renameduplicatecolumns(testlist, squad_defensiveaction)"
   ]
  },
  {
   "cell_type": "code",
   "execution_count": 82,
   "metadata": {},
   "outputs": [
    {
     "name": "stdout",
     "output_type": "stream",
     "text": [
      "['Past', 'Press', 'Succ', '%', 'ShSv', 'Round', 'Season']\n",
      "[]\n"
     ]
    },
    {
     "name": "stderr",
     "output_type": "stream",
     "text": [
      "C:\\Users\\User\\AppData\\Local\\Temp\\ipykernel_5404\\3587502263.py:9: UserWarning: pandas only supports SQLAlchemy connectable (engine/connection) or database string URI or sqlite3 DBAPI2 connection. Other DBAPI2 objects are not tested. Please consider using SQLAlchemy.\n",
      "  df_sqlcolumnlist = pd.read_sql(sql_columnlist, conn)\n"
     ]
    }
   ],
   "source": [
    "sourcedestcompare('SquadDefensiveactionStat', squad_defensiveaction)"
   ]
  },
  {
   "cell_type": "code",
   "execution_count": 83,
   "metadata": {},
   "outputs": [],
   "source": [
    "squad_defensiveaction[\"Season\"] = \"2023/2024\""
   ]
  },
  {
   "cell_type": "code",
   "execution_count": 84,
   "metadata": {},
   "outputs": [
    {
     "data": {
      "text/plain": [
       "-1"
      ]
     },
     "execution_count": 84,
     "metadata": {},
     "output_type": "execute_result"
    }
   ],
   "source": [
    "# Send to database (if i want to replace table add if_exists='replace' to the parameter)\n",
    "squad_defensiveaction[\"Round\"] = Last_Round\n",
    "squad_defensiveaction.to_sql('SquadDefensiveactionStat', engine, if_exists='append')"
   ]
  },
  {
   "cell_type": "code",
   "execution_count": null,
   "metadata": {},
   "outputs": [],
   "source": []
  },
  {
   "cell_type": "code",
   "execution_count": null,
   "metadata": {},
   "outputs": [],
   "source": []
  },
  {
   "cell_type": "code",
   "execution_count": null,
   "metadata": {},
   "outputs": [],
   "source": []
  },
  {
   "cell_type": "markdown",
   "metadata": {},
   "source": [
    "# All League's Player possession data"
   ]
  },
  {
   "cell_type": "code",
   "execution_count": 85,
   "metadata": {},
   "outputs": [],
   "source": [
    "standing_url = \"https://fbref.com/en/comps/9/Premier-League-Stats\"\n",
    "data = requests.get(standing_url)\n",
    "soup = BeautifulSoup(data.text, 'lxml')\n",
    "standings_table = soup.select('table.stats_table')[0]\n",
    "links = standings_table.find_all('a')\n",
    "links = [l.get(\"href\") for l in links]\n",
    "links = [l for l in links if 'squads' in l]\n",
    "team_urls = [f\"https://fbref.com{l}\" for l in links]\n",
    "\n",
    "\n",
    "all_PlayerpossessionStat = []\n",
    "\n",
    "for team_url in team_urls:\n",
    "    team_name = team_url.split(\"/\")[-1].replace(\"-Stats\", \"\").replace(\"-\",\" \")\n",
    "    data = requests.get(team_url)\n",
    "    \n",
    "    PossessionStat = pd.read_html(data.text, match = \"Possession \")[0]\n",
    "    PossessionStat.columns = PossessionStat.columns.droplevel()\n",
    "    PossessionStat[\"Club\"] = mapping[team_name]\n",
    "    PossessionStat.drop(PossessionStat.tail(2).index, inplace=True)\n",
    "\n",
    "    all_PlayerpossessionStat.append(PossessionStat)\n",
    "    time.sleep(2)    \n",
    "\n",
    "PossessionStat_df = pd.concat(all_PlayerpossessionStat)  "
   ]
  },
  {
   "cell_type": "code",
   "execution_count": 86,
   "metadata": {},
   "outputs": [
    {
     "name": "stdout",
     "output_type": "stream",
     "text": [
      "['#Pl', 'Megs', 'Prog', 'Targ', 'Rec%', 'Round', 'Season']\n",
      "[]\n"
     ]
    },
    {
     "name": "stderr",
     "output_type": "stream",
     "text": [
      "C:\\Users\\User\\AppData\\Local\\Temp\\ipykernel_5404\\3587502263.py:9: UserWarning: pandas only supports SQLAlchemy connectable (engine/connection) or database string URI or sqlite3 DBAPI2 connection. Other DBAPI2 objects are not tested. Please consider using SQLAlchemy.\n",
      "  df_sqlcolumnlist = pd.read_sql(sql_columnlist, conn)\n"
     ]
    }
   ],
   "source": [
    "sourcedestcompare('PlayerPossessionStat', PossessionStat_df)"
   ]
  },
  {
   "cell_type": "code",
   "execution_count": 87,
   "metadata": {},
   "outputs": [],
   "source": [
    "PossessionStat_df[\"Season\"] = \"2023/2024\""
   ]
  },
  {
   "cell_type": "code",
   "execution_count": 88,
   "metadata": {},
   "outputs": [
    {
     "data": {
      "text/plain": [
       "-1"
      ]
     },
     "execution_count": 88,
     "metadata": {},
     "output_type": "execute_result"
    }
   ],
   "source": [
    "# Send to database (if i want to replace table add if_exists='replace' to the parameter)\n",
    "PossessionStat_df[\"Round\"] = Last_Round\n",
    "PossessionStat_df.to_sql('PlayerPossessionStat', engine, if_exists='append')"
   ]
  },
  {
   "cell_type": "markdown",
   "metadata": {},
   "source": [
    "##### Get League's Squad possession data"
   ]
  },
  {
   "cell_type": "code",
   "execution_count": 89,
   "metadata": {},
   "outputs": [],
   "source": [
    "data = requests.get(\"https://fbref.com/en/comps/9/Premier-League-Stats\")\n",
    "squad_possession = pd.read_html(data.text, match = \"Possession \")[0]\n",
    "squad_possession.columns = squad_possession.columns.droplevel()\n",
    "# squad_possession"
   ]
  },
  {
   "cell_type": "code",
   "execution_count": 90,
   "metadata": {},
   "outputs": [
    {
     "name": "stdout",
     "output_type": "stream",
     "text": [
      "['#Pl', 'Megs', 'Prog', 'Targ', 'Rec%', 'Round', 'Season']\n",
      "[]\n"
     ]
    },
    {
     "name": "stderr",
     "output_type": "stream",
     "text": [
      "C:\\Users\\User\\AppData\\Local\\Temp\\ipykernel_5404\\3587502263.py:9: UserWarning: pandas only supports SQLAlchemy connectable (engine/connection) or database string URI or sqlite3 DBAPI2 connection. Other DBAPI2 objects are not tested. Please consider using SQLAlchemy.\n",
      "  df_sqlcolumnlist = pd.read_sql(sql_columnlist, conn)\n"
     ]
    }
   ],
   "source": [
    "sourcedestcompare('SquadPossessionStat', squad_possession)"
   ]
  },
  {
   "cell_type": "code",
   "execution_count": 91,
   "metadata": {},
   "outputs": [],
   "source": [
    "squad_possession[\"Season\"] = \"2023/2024\""
   ]
  },
  {
   "cell_type": "code",
   "execution_count": 92,
   "metadata": {},
   "outputs": [
    {
     "data": {
      "text/plain": [
       "-1"
      ]
     },
     "execution_count": 92,
     "metadata": {},
     "output_type": "execute_result"
    }
   ],
   "source": [
    "# Send to database (if i want to replace table add if_exists='replace' to the parameter)\n",
    "squad_possession[\"Round\"] = Last_Round\n",
    "squad_possession.to_sql('SquadPossessionStat', engine, if_exists='append')"
   ]
  },
  {
   "cell_type": "code",
   "execution_count": null,
   "metadata": {},
   "outputs": [],
   "source": []
  },
  {
   "cell_type": "markdown",
   "metadata": {},
   "source": [
    "# All League's Player playingtime data"
   ]
  },
  {
   "cell_type": "code",
   "execution_count": 93,
   "metadata": {},
   "outputs": [],
   "source": [
    "standing_url = \"https://fbref.com/en/comps/9/Premier-League-Stats\"\n",
    "data = requests.get(standing_url)\n",
    "soup = BeautifulSoup(data.text, 'lxml')\n",
    "standings_table = soup.select('table.stats_table')[0]\n",
    "links = standings_table.find_all('a')\n",
    "links = [l.get(\"href\") for l in links]\n",
    "links = [l for l in links if 'squads' in l]\n",
    "team_urls = [f\"https://fbref.com{l}\" for l in links]\n",
    "\n",
    "\n",
    "all_PlayerplayingtimeStat = []"
   ]
  },
  {
   "cell_type": "code",
   "execution_count": 94,
   "metadata": {},
   "outputs": [],
   "source": [
    "for team_url in team_urls:\n",
    "    team_name = team_url.split(\"/\")[-1].replace(\"-Stats\", \"\").replace(\"-\",\" \")\n",
    "    data = requests.get(team_url)\n",
    "    \n",
    "    PlayingtimeStat = pd.read_html(data.text, match = \"Playing Time \")[0]\n",
    "    PlayingtimeStat.columns = PlayingtimeStat.columns.droplevel()\n",
    "    PlayingtimeStat[\"Club\"] = mapping[team_name]\n",
    "    PlayingtimeStat.drop(PlayingtimeStat.tail(2).index, inplace=True)\n",
    "\n",
    "    all_PlayerplayingtimeStat.append(PlayingtimeStat)\n",
    "    time.sleep(2)    \n",
    "\n",
    "PlayingtimeStat_df = pd.concat(all_PlayerplayingtimeStat)  "
   ]
  },
  {
   "cell_type": "code",
   "execution_count": 95,
   "metadata": {},
   "outputs": [
    {
     "name": "stdout",
     "output_type": "stream",
     "text": [
      "['Round', 'Season']\n",
      "[]\n"
     ]
    },
    {
     "name": "stderr",
     "output_type": "stream",
     "text": [
      "C:\\Users\\User\\AppData\\Local\\Temp\\ipykernel_5404\\3587502263.py:9: UserWarning: pandas only supports SQLAlchemy connectable (engine/connection) or database string URI or sqlite3 DBAPI2 connection. Other DBAPI2 objects are not tested. Please consider using SQLAlchemy.\n",
      "  df_sqlcolumnlist = pd.read_sql(sql_columnlist, conn)\n"
     ]
    }
   ],
   "source": [
    "sourcedestcompare('PlayerPlayingtimeStat', PlayingtimeStat_df)"
   ]
  },
  {
   "cell_type": "code",
   "execution_count": 96,
   "metadata": {},
   "outputs": [],
   "source": [
    "PlayingtimeStat_df[\"Season\"] = \"2023/2024\""
   ]
  },
  {
   "cell_type": "code",
   "execution_count": 97,
   "metadata": {},
   "outputs": [
    {
     "data": {
      "text/plain": [
       "-1"
      ]
     },
     "execution_count": 97,
     "metadata": {},
     "output_type": "execute_result"
    }
   ],
   "source": [
    "# Send to database (if i want to replace table add if_exists='replace' to the parameter)\n",
    "PlayingtimeStat_df[\"Round\"] = Last_Round\n",
    "PlayingtimeStat_df.to_sql('PlayerPlayingtimeStat', engine, if_exists='append')"
   ]
  },
  {
   "cell_type": "code",
   "execution_count": null,
   "metadata": {},
   "outputs": [],
   "source": []
  },
  {
   "cell_type": "markdown",
   "metadata": {},
   "source": [
    "##### Get League's Squad playingtime data"
   ]
  },
  {
   "cell_type": "code",
   "execution_count": 98,
   "metadata": {
    "tags": []
   },
   "outputs": [],
   "source": [
    "data = requests.get(\"https://fbref.com/en/comps/9/Premier-League-Stats\")\n",
    "squad_playingtime = pd.read_html(data.text, match = \"Playing Time \")[0]\n",
    "squad_playingtime.columns = squad_playingtime.columns.droplevel()\n",
    "# squad_playingtime"
   ]
  },
  {
   "cell_type": "code",
   "execution_count": 99,
   "metadata": {},
   "outputs": [],
   "source": [
    "squad_playingtime[\"Season\"] = \"2023/2024\""
   ]
  },
  {
   "cell_type": "code",
   "execution_count": 100,
   "metadata": {},
   "outputs": [
    {
     "data": {
      "text/plain": [
       "-1"
      ]
     },
     "execution_count": 100,
     "metadata": {},
     "output_type": "execute_result"
    }
   ],
   "source": [
    "# Send to database (if i want to replace table add if_exists='replace' to the parameter)\n",
    "squad_playingtime[\"Round\"] = Last_Round\n",
    "squad_playingtime.to_sql('SquadPlayingtimeStat', engine, if_exists='append')"
   ]
  },
  {
   "cell_type": "code",
   "execution_count": null,
   "metadata": {},
   "outputs": [],
   "source": []
  },
  {
   "cell_type": "code",
   "execution_count": null,
   "metadata": {},
   "outputs": [],
   "source": []
  },
  {
   "cell_type": "code",
   "execution_count": null,
   "metadata": {},
   "outputs": [],
   "source": []
  },
  {
   "cell_type": "markdown",
   "metadata": {},
   "source": [
    "# All League's Player miscellaneous  data"
   ]
  },
  {
   "cell_type": "code",
   "execution_count": 101,
   "metadata": {},
   "outputs": [],
   "source": [
    "standing_url = \"https://fbref.com/en/comps/9/Premier-League-Stats\"\n",
    "data = requests.get(standing_url)\n",
    "soup = BeautifulSoup(data.text, 'lxml')\n",
    "standings_table = soup.select('table.stats_table')[0]\n",
    "links = standings_table.find_all('a')\n",
    "links = [l.get(\"href\") for l in links]\n",
    "links = [l for l in links if 'squads' in l]\n",
    "team_urls = [f\"https://fbref.com{l}\" for l in links]\n",
    "\n",
    "\n",
    "all_PlayermiscellaneousStat = []\n",
    "\n",
    "for team_url in team_urls:\n",
    "    team_name = team_url.split(\"/\")[-1].replace(\"-Stats\", \"\").replace(\"-\",\" \")\n",
    "    data = requests.get(team_url)\n",
    "    \n",
    "    MiscellaneousStat = pd.read_html(data.text, match = \"Miscellaneous Stats \")[0]\n",
    "    MiscellaneousStat.columns = MiscellaneousStat.columns.droplevel()\n",
    "    MiscellaneousStat[\"Club\"] = mapping[team_name]\n",
    "    MiscellaneousStat.drop(MiscellaneousStat.tail(2).index, inplace=True)\n",
    "\n",
    "    all_PlayermiscellaneousStat.append(MiscellaneousStat)\n",
    "    time.sleep(2)    \n",
    "\n",
    "MiscellaneousStat_df = pd.concat(all_PlayermiscellaneousStat)  "
   ]
  },
  {
   "cell_type": "code",
   "execution_count": 102,
   "metadata": {},
   "outputs": [],
   "source": [
    "MiscellaneousStat_df[\"Season\"] = \"2023/2024\""
   ]
  },
  {
   "cell_type": "code",
   "execution_count": 103,
   "metadata": {},
   "outputs": [
    {
     "data": {
      "text/plain": [
       "-1"
      ]
     },
     "execution_count": 103,
     "metadata": {},
     "output_type": "execute_result"
    }
   ],
   "source": [
    "# Send to database (if i want to replace table add if_exists='replace' to the parameter)\n",
    "MiscellaneousStat_df[\"Round\"] = Last_Round\n",
    "MiscellaneousStat_df.to_sql('PlayerMiscellaneousStat', engine, if_exists='append')"
   ]
  },
  {
   "cell_type": "code",
   "execution_count": null,
   "metadata": {},
   "outputs": [],
   "source": []
  },
  {
   "cell_type": "markdown",
   "metadata": {},
   "source": [
    "##### Get League's Squad miscellaneous data"
   ]
  },
  {
   "cell_type": "code",
   "execution_count": 104,
   "metadata": {},
   "outputs": [],
   "source": [
    "data = requests.get(\"https://fbref.com/en/comps/9/Premier-League-Stats\")\n",
    "squad_miscellaneous = pd.read_html(data.text, match = \"Miscellaneous Stats \")[0]\n",
    "squad_miscellaneous.columns = squad_miscellaneous.columns.droplevel()\n",
    "# squad_miscellaneous"
   ]
  },
  {
   "cell_type": "code",
   "execution_count": 105,
   "metadata": {},
   "outputs": [],
   "source": [
    "squad_miscellaneous[\"Season\"] = \"2023/2024\""
   ]
  },
  {
   "cell_type": "code",
   "execution_count": 106,
   "metadata": {},
   "outputs": [
    {
     "data": {
      "text/plain": [
       "-1"
      ]
     },
     "execution_count": 106,
     "metadata": {},
     "output_type": "execute_result"
    }
   ],
   "source": [
    "# Send to database (if i want to replace table add if_exists='replace' to the parameter)\n",
    "squad_miscellaneous[\"Round\"] = Last_Round\n",
    "squad_miscellaneous.to_sql('SquadMiscellaneousStat', engine, if_exists='append')"
   ]
  },
  {
   "cell_type": "code",
   "execution_count": null,
   "metadata": {},
   "outputs": [],
   "source": []
  },
  {
   "cell_type": "code",
   "execution_count": null,
   "metadata": {},
   "outputs": [],
   "source": []
  },
  {
   "cell_type": "code",
   "execution_count": null,
   "metadata": {},
   "outputs": [],
   "source": []
  },
  {
   "cell_type": "code",
   "execution_count": null,
   "metadata": {},
   "outputs": [],
   "source": []
  },
  {
   "cell_type": "markdown",
   "metadata": {},
   "source": [
    "###### List of all club players name(include some amount that has been transfered out of the club)"
   ]
  },
  {
   "cell_type": "code",
   "execution_count": 107,
   "metadata": {},
   "outputs": [],
   "source": [
    "# Playernames = StandardStat_df[[\"Player\",\"Club\"]].reset_index(drop=True)\n",
    "# Playernames"
   ]
  },
  {
   "cell_type": "code",
   "execution_count": 108,
   "metadata": {},
   "outputs": [],
   "source": [
    "#Send to database \n",
    "# Playernames.to_sql('SquadPlayerName', engine,if_exists='replace' )"
   ]
  },
  {
   "cell_type": "code",
   "execution_count": null,
   "metadata": {},
   "outputs": [],
   "source": []
  },
  {
   "cell_type": "code",
   "execution_count": null,
   "metadata": {},
   "outputs": [],
   "source": []
  },
  {
   "cell_type": "markdown",
   "metadata": {},
   "source": [
    "# Total goals and assist contribution for the last 5 matches"
   ]
  },
  {
   "cell_type": "code",
   "execution_count": 109,
   "metadata": {},
   "outputs": [],
   "source": [
    "standing_url = \"https://fbref.com/en/comps/9/Premier-League-Stats\"\n",
    "data = requests.get(standing_url)\n",
    "soup = BeautifulSoup(data.text, 'lxml')\n",
    "standings_table = soup.select('table.stats_table')[0]\n",
    "links = standings_table.find_all('a')\n",
    "links = [l.get(\"href\") for l in links]\n",
    "links = [l for l in links if 'squads' in l]\n",
    "team_urls = [f\"https://fbref.com{l}\" for l in links]"
   ]
  },
  {
   "cell_type": "code",
   "execution_count": 110,
   "metadata": {},
   "outputs": [],
   "source": [
    "\n",
    "# team_urls = [l for l in team_urls if l not in ['https://fbref.com/en/squads/8cec06e1/Wolverhampton-Wanderers-Stats','https://fbref.com/en/squads/7c21e445/West-Ham-United-Stats','https://fbref.com/en/squads/361ca564/Tottenham-Hotspur-Stats','https://fbref.com/en/squads/e4a775cb/Nottingham-Forest-Stats','https://fbref.com/en/squads/b2b47a98/Newcastle-United-Stats','https://fbref.com/en/squads/19538871/Manchester-United-Stats','https://fbref.com/en/squads/d07537b9/Brighton-and-Hove-Albion-Stats']]\n",
    "\n",
    "\n",
    "all_PlayerLast5Performance = []\n",
    "\n",
    "\n",
    "for team_url in team_urls:\n",
    "    team_name = team_url.split(\"/\")[-1].replace(\"-Stats\", \"\").replace(\"-\",\" \")\n",
    "# team_url = team_urls[0]\n",
    "# team_url\n",
    "    data = requests.get(team_url)\n",
    "    soup = BeautifulSoup(data.text, 'lxml')\n",
    "    scorefixture_table = soup.select('table.stats_table')[1]\n",
    "    links = scorefixture_table.find_all('a')\n",
    "    links = [l.get(\"href\") for l in links]\n",
    "    links = [l for l in links if '/matches' in l ]\n",
    "    # remove duplicate from list\n",
    "    links = list(dict.fromkeys(links))\n",
    "    # removing non premier league (Remove europa)\n",
    "    links = [l for l in links if \"Premier\" in l]\n",
    "    links\n",
    "    \n",
    "    \n",
    "    last5_marchreport = []\n",
    "    n = -1    \n",
    "    while n >-6:\n",
    "        # check, especially within the first 5matches of the season, that n should be within the index range\n",
    "        if n >= -len(links):  # Check if n is within the valid index range\n",
    "            data = requests.get(f\"https://fbref.com{links[n]}\")\n",
    "            summary = pd.read_html(data.text, match= mapping[team_name]+\" Player Stats Table\")[0]\n",
    "            summary.columns = summary.columns.droplevel()\n",
    "            # retrun the opposition team name\n",
    "            string = links[n]\n",
    "            modifiedstring = string[string.rindex('/') + 1:]\n",
    "            words = re.findall(r'\\b\\w+\\b', modifiedstring)\n",
    "            # Remove the last 5 words\n",
    "            summary[\"Clash\"] = ' '.join(words[:-5])\n",
    "\n",
    "\n",
    "\n",
    "            summary[\"Club_\"] = team_name\n",
    "            #create a short name\n",
    "            summary[\"ShClub_\"] = mapping[team_name]\n",
    "            summary.drop(summary.tail(1).index, inplace=True)\n",
    "        # if it is out of range then move to the next loop\n",
    "        else:\n",
    "            n -= 1\n",
    "            continue\n",
    "        \n",
    "        n -= 1\n",
    "        \n",
    "        last5_marchreport.append(summary)\n",
    "        time.sleep(2)\n",
    "\n",
    "    # ===================================================================================================================\n",
    "    #  Bournemouth and Luton Town giving some errors but have been excepted\n",
    "    # ===================================================================================================================\n",
    "    try:\n",
    "        pd_summary = pd.concat(last5_marchreport)\n",
    "    except pd.errors.InvalidIndexError as e:\n",
    "        print(f\"Error: {e}\")\n",
    "        print(\"Reindexing is only valid with uniquely valued Index objects.\")\n",
    "        print(f\"Team: {team_name} thus skipped\")\n",
    "    \n",
    "    all_PlayerLast5Performance.append(pd_summary)\n",
    "    time.sleep(2)\n",
    "\n",
    "pd_allteam = pd.concat(all_PlayerLast5Performance)"
   ]
  },
  {
   "cell_type": "code",
   "execution_count": 111,
   "metadata": {
    "tags": []
   },
   "outputs": [
    {
     "data": {
      "text/plain": [
       "Index(['Player', '#', 'Nation', 'Pos', 'Age', 'Min', 'Gls', 'Ast', 'PK',\n",
       "       'PKatt', 'Sh', 'SoT', 'CrdY', 'CrdR', 'Touches', 'Tkl', 'Int', 'Blocks',\n",
       "       'xG', 'npxG', 'xAG', 'SCA', 'GCA', 'Cmp', 'Att', 'Cmp%', 'PrgP',\n",
       "       'Carries', 'PrgC', 'Att', 'Succ', 'Clash', 'Club_', 'ShClub_'],\n",
       "      dtype='object')"
      ]
     },
     "execution_count": 111,
     "metadata": {},
     "output_type": "execute_result"
    }
   ],
   "source": [
    "pd_allteam.columns"
   ]
  },
  {
   "cell_type": "code",
   "execution_count": 112,
   "metadata": {},
   "outputs": [
    {
     "name": "stderr",
     "output_type": "stream",
     "text": [
      "C:\\Users\\User\\AppData\\Local\\Temp\\ipykernel_5404\\4170508656.py:3: SettingWithCopyWarning: \n",
      "A value is trying to be set on a copy of a slice from a DataFrame.\n",
      "Try using .loc[row_indexer,col_indexer] = value instead\n",
      "\n",
      "See the caveats in the documentation: https://pandas.pydata.org/pandas-docs/stable/user_guide/indexing.html#returning-a-view-versus-a-copy\n",
      "  dfperformanceagaisntclub[\"Season\"] = \"2023/2024\"\n",
      "C:\\Users\\User\\AppData\\Local\\Temp\\ipykernel_5404\\4170508656.py:4: SettingWithCopyWarning: \n",
      "A value is trying to be set on a copy of a slice from a DataFrame.\n",
      "Try using .loc[row_indexer,col_indexer] = value instead\n",
      "\n",
      "See the caveats in the documentation: https://pandas.pydata.org/pandas-docs/stable/user_guide/indexing.html#returning-a-view-versus-a-copy\n",
      "  dfperformanceagaisntclub[\"Round\"] = Last_Round\n"
     ]
    },
    {
     "data": {
      "text/plain": [
       "-1"
      ]
     },
     "execution_count": 112,
     "metadata": {},
     "output_type": "execute_result"
    }
   ],
   "source": [
    "# Send the granula data for analysis the games where a player socred\n",
    "dfperformanceagaisntclub = pd_allteam[['Player','#','Min','Gls','Ast','Sh','SoT','CrdY','CrdR','Blocks', 'Tkl', 'Int','SCA','GCA','Club_','ShClub_', 'Clash']]\n",
    "dfperformanceagaisntclub[\"Season\"] = \"2023/2024\"\n",
    "dfperformanceagaisntclub[\"Round\"] = Last_Round\n",
    "dfperformanceagaisntclub.to_sql('_PlayerPerformanceRecentGran', engine, if_exists='append')\n",
    "# dfperformanceagaisntclub.to_sql('_Debug-PlayerPerformanceRecentGran', engine, if_exists='append')"
   ]
  },
  {
   "cell_type": "code",
   "execution_count": null,
   "metadata": {
    "tags": []
   },
   "outputs": [],
   "source": []
  },
  {
   "cell_type": "code",
   "execution_count": null,
   "metadata": {},
   "outputs": [],
   "source": []
  },
  {
   "cell_type": "code",
   "execution_count": 113,
   "metadata": {},
   "outputs": [],
   "source": [
    "dfperformancerecent = pd_allteam[['Player','#','Min','Gls','Ast','Sh','SoT','CrdY','CrdR','Blocks', 'Tkl', 'Int','SCA','GCA','Club_','ShClub_']]\n",
    "dfperformancerecent = dfperformancerecent.groupby(['#','Player','Club_', 'ShClub_']).sum().reset_index()\n",
    "# dff = dfperformancerecent.groupby(['Club_'])\n",
    "# dff.get_group(\"West Ham United\")\n"
   ]
  },
  {
   "cell_type": "code",
   "execution_count": 114,
   "metadata": {},
   "outputs": [],
   "source": [
    "dfperformancerecent[\"Season\"] = \"2023/2024\""
   ]
  },
  {
   "cell_type": "code",
   "execution_count": 115,
   "metadata": {},
   "outputs": [
    {
     "data": {
      "text/plain": [
       "-1"
      ]
     },
     "execution_count": 115,
     "metadata": {},
     "output_type": "execute_result"
    }
   ],
   "source": [
    "# Send to database (if i want to replace table add if_exists='replace' to the parameter)\n",
    "dfperformancerecent[\"Round\"] = Last_Round\n",
    "dfperformancerecent.to_sql('_PlayerPerformanceRecent', engine, if_exists='append')\n",
    "# dfperformancerecent.to_sql('_Debug-PlayerPerformanceRecent', engine, if_exists='append')"
   ]
  },
  {
   "cell_type": "code",
   "execution_count": null,
   "metadata": {},
   "outputs": [],
   "source": []
  },
  {
   "cell_type": "code",
   "execution_count": null,
   "metadata": {},
   "outputs": [],
   "source": []
  },
  {
   "cell_type": "markdown",
   "metadata": {},
   "source": [
    "# Team Result"
   ]
  },
  {
   "cell_type": "code",
   "execution_count": 116,
   "metadata": {},
   "outputs": [],
   "source": [
    "standing_url = \"https://fbref.com/en/comps/9/Premier-League-Stats\"\n",
    "data = requests.get(standing_url)\n",
    "soup = BeautifulSoup(data.text, 'lxml')\n",
    "standings_table = soup.select('table.stats_table')[0]\n",
    "links = standings_table.find_all('a')\n",
    "links = [l.get(\"href\") for l in links]\n",
    "links = [l for l in links if 'squads' in l]\n",
    "team_urls = [f\"https://fbref.com{l}\" for l in links]\n",
    "\n",
    "\n",
    "all_TeamresultStat = []"
   ]
  },
  {
   "cell_type": "code",
   "execution_count": 117,
   "metadata": {},
   "outputs": [],
   "source": [
    "for team_url in team_urls:\n",
    "    team_name = team_url.split(\"/\")[-1].replace(\"-Stats\", \"\").replace(\"-\",\" \")\n",
    "    data = requests.get(team_url)\n",
    "    \n",
    "    ResultStat = pd.read_html(data.text, match = \"Scores & Fixtures \")[0]\n",
    "#     ResultStat.columns = ResultStat.columns.droplevel()\n",
    "    ResultStat[\"Club\"] = team_name\n",
    "    ResultStat[\"ShClub_\"] = mapping[team_name]\n",
    "#     ResultStat.drop(ResultStat.tail(2).index, inplace=True)\n",
    "\n",
    "    all_TeamresultStat.append(ResultStat)\n",
    "    time.sleep(2)    \n",
    "    \n",
    "\n",
    "ResultStat_df = pd.concat(all_TeamresultStat)  "
   ]
  },
  {
   "cell_type": "code",
   "execution_count": 118,
   "metadata": {},
   "outputs": [],
   "source": [
    "ResultStat_df = ResultStat_df[ResultStat_df['Result'].notna()]\n",
    "ResultStat_df = ResultStat_df[ResultStat_df['Comp']=='Premier League']"
   ]
  },
  {
   "cell_type": "code",
   "execution_count": 119,
   "metadata": {},
   "outputs": [],
   "source": [
    "\n",
    "\n",
    "\n",
    "#Dont run\n",
    "# Removing rows where a column carries a particular string\n",
    "# dd = ResultStat_df[ResultStat_df['Result'].str.contains('Result') == False]\n",
    "# dd"
   ]
  },
  {
   "cell_type": "code",
   "execution_count": 120,
   "metadata": {},
   "outputs": [],
   "source": [
    "ResultStat_df[\"Season\"] = \"2023/2024\""
   ]
  },
  {
   "cell_type": "code",
   "execution_count": 121,
   "metadata": {},
   "outputs": [
    {
     "data": {
      "text/plain": [
       "-1"
      ]
     },
     "execution_count": 121,
     "metadata": {},
     "output_type": "execute_result"
    }
   ],
   "source": [
    "# Send to database (if i want to replace table add if_exists='replace' to the parameter)\n",
    "ResultStat_df =ResultStat_df.rename({\"Round\":\"MatchWeek\"}, axis='columns')\n",
    "ResultStat_df[\"Round\"] = Last_Round\n",
    "ResultStat_df.to_sql('FixturesStat', engine, if_exists='append')"
   ]
  },
  {
   "cell_type": "markdown",
   "metadata": {},
   "source": [
    "# Table Standings"
   ]
  },
  {
   "cell_type": "code",
   "execution_count": 122,
   "metadata": {},
   "outputs": [],
   "source": [
    "standing_url = \"https://fbref.com/en/comps/9/Premier-League-Stats\"\n",
    "data = requests.get(standing_url)\n",
    "Standingtable = pd.read_html(data.text, match = \"Regular season Table\")[0]\n",
    "# Standingtable[Standingtable['Squad']]"
   ]
  },
  {
   "cell_type": "code",
   "execution_count": 123,
   "metadata": {},
   "outputs": [],
   "source": [
    "Standingtable_df = Standingtable[['Rk','Squad','W','D','L','Pts','GF','GA','GD','Last 5','Top Team Scorer','MP']]"
   ]
  },
  {
   "cell_type": "code",
   "execution_count": 124,
   "metadata": {},
   "outputs": [
    {
     "name": "stderr",
     "output_type": "stream",
     "text": [
      "C:\\Users\\User\\AppData\\Local\\Temp\\ipykernel_5404\\1272102829.py:1: SettingWithCopyWarning: \n",
      "A value is trying to be set on a copy of a slice from a DataFrame.\n",
      "Try using .loc[row_indexer,col_indexer] = value instead\n",
      "\n",
      "See the caveats in the documentation: https://pandas.pydata.org/pandas-docs/stable/user_guide/indexing.html#returning-a-view-versus-a-copy\n",
      "  Standingtable_df[\"Season\"] = \"2023/2024\"\n"
     ]
    }
   ],
   "source": [
    "Standingtable_df[\"Season\"] = \"2023/2024\""
   ]
  },
  {
   "cell_type": "code",
   "execution_count": 125,
   "metadata": {},
   "outputs": [
    {
     "name": "stderr",
     "output_type": "stream",
     "text": [
      "C:\\Users\\User\\AppData\\Local\\Temp\\ipykernel_5404\\4026795831.py:2: SettingWithCopyWarning: \n",
      "A value is trying to be set on a copy of a slice from a DataFrame.\n",
      "Try using .loc[row_indexer,col_indexer] = value instead\n",
      "\n",
      "See the caveats in the documentation: https://pandas.pydata.org/pandas-docs/stable/user_guide/indexing.html#returning-a-view-versus-a-copy\n",
      "  Standingtable_df[\"Round\"] = Last_Round\n"
     ]
    },
    {
     "data": {
      "text/plain": [
       "-1"
      ]
     },
     "execution_count": 125,
     "metadata": {},
     "output_type": "execute_result"
    }
   ],
   "source": [
    "# Send to database (if i want to replace table add if_exists='replace' to the parameter)\n",
    "Standingtable_df[\"Round\"] = Last_Round\n",
    "Standingtable_df.to_sql('_Standtable', engine, if_exists='append')"
   ]
  },
  {
   "cell_type": "code",
   "execution_count": null,
   "metadata": {},
   "outputs": [],
   "source": []
  },
  {
   "cell_type": "code",
   "execution_count": null,
   "metadata": {},
   "outputs": [],
   "source": []
  },
  {
   "cell_type": "markdown",
   "metadata": {},
   "source": [
    "# Next 7 fixtures"
   ]
  },
  {
   "cell_type": "code",
   "execution_count": 126,
   "metadata": {},
   "outputs": [],
   "source": [
    "standing_url = \"https://fbref.com/en/comps/9/Premier-League-Stats\"\n",
    "data = requests.get(standing_url)\n",
    "soup = BeautifulSoup(data.text, 'lxml')\n",
    "standings_table = soup.select('table.stats_table')[0]\n",
    "links = standings_table.find_all('a')\n",
    "links = [l.get(\"href\") for l in links]\n",
    "links = [l for l in links if 'squads' in l]\n",
    "team_urls = [f\"https://fbref.com{l}\" for l in links]\n",
    "# team_urls = [l for l in team_urls if l not in ['https://fbref.com/en/squads/8cec06e1/Wolverhampton-Wanderers-Stats','https://fbref.com/en/squads/7c21e445/West-Ham-United-Stats','https://fbref.com/en/squads/361ca564/Tottenham-Hotspur-Stats','https://fbref.com/en/squads/e4a775cb/Nottingham-Forest-Stats','https://fbref.com/en/squads/b2b47a98/Newcastle-United-Stats','https://fbref.com/en/squads/19538871/Manchester-United-Stats','https://fbref.com/en/squads/d07537b9/Brighton-and-Hove-Albion-Stats']]\n",
    "\n",
    "\n",
    "all_Next7Fixture = []\n",
    "\n",
    "\n",
    "for team_url in team_urls:\n",
    "    team_name = team_url.split(\"/\")[-1].replace(\"-Stats\", \"\").replace(\"-\",\" \")\n",
    "#     team_url = team_urls[0]\n",
    "    # team_url\n",
    "    data = requests.get(team_url)\n",
    "    fixtures = pd.read_html(data.text, match= \"Scores & Fixtures \")[0]\n",
    "    fixtures[\"shClub\"] = mapping[team_name]\n",
    "    fixtures = fixtures[fixtures['Comp']=='Premier League']\n",
    "    fixtures[['Match Report']] = fixtures[['Match Report']].fillna('')\n",
    "    fixtures = fixtures[fixtures['Match Report'].str.contains('Match Report')==False]\n",
    "    \n",
    "    fixtures = fixtures.iloc[:7]\n",
    "# converting object type to date data type\n",
    "    #     fixtures[\"Date\"] = pd.to_datetime(fixtures[\"Date\"])\n",
    "#     fixtures.nsmallest(n=7, columns=['Date'])\n",
    "    \n",
    "    all_Next7Fixture.append(fixtures)\n",
    "    time.sleep(2)\n",
    "    \n",
    "pd_allNext7Fixtures = pd.concat(all_Next7Fixture)\n",
    "# pd_allNext7Fixtures  \n",
    "    \n"
   ]
  },
  {
   "cell_type": "code",
   "execution_count": 127,
   "metadata": {},
   "outputs": [],
   "source": [
    "pd_allNext7Fixtures[\"Season\"] = \"2023/2024\""
   ]
  },
  {
   "cell_type": "code",
   "execution_count": 128,
   "metadata": {},
   "outputs": [
    {
     "data": {
      "text/plain": [
       "-1"
      ]
     },
     "execution_count": 128,
     "metadata": {},
     "output_type": "execute_result"
    }
   ],
   "source": [
    "# Send to database (if i want to replace table add if_exists='replace' to the parameter)\n",
    "pd_allNext7Fixtures[\"Round\"] = Last_Round\n",
    "pd_allNext7Fixtures.to_sql('Next7Fixtures', engine, if_exists='append')"
   ]
  },
  {
   "cell_type": "markdown",
   "metadata": {},
   "source": []
  },
  {
   "cell_type": "markdown",
   "metadata": {},
   "source": [
    "# This week and Next week Fixture draw"
   ]
  },
  {
   "cell_type": "markdown",
   "metadata": {},
   "source": [
    "#### Edit filter condition within the first block of code"
   ]
  },
  {
   "cell_type": "markdown",
   "metadata": {},
   "source": [
    "<font color='blue'>Edit filter condition within the first block of code</font>"
   ]
  },
  {
   "cell_type": "code",
   "execution_count": 129,
   "metadata": {},
   "outputs": [
    {
     "data": {
      "text/html": [
       "<div>\n",
       "<style scoped>\n",
       "    .dataframe tbody tr th:only-of-type {\n",
       "        vertical-align: middle;\n",
       "    }\n",
       "\n",
       "    .dataframe tbody tr th {\n",
       "        vertical-align: top;\n",
       "    }\n",
       "\n",
       "    .dataframe thead th {\n",
       "        text-align: right;\n",
       "    }\n",
       "</style>\n",
       "<table border=\"1\" class=\"dataframe\">\n",
       "  <thead>\n",
       "    <tr style=\"text-align: right;\">\n",
       "      <th></th>\n",
       "      <th>Wk</th>\n",
       "      <th>Day</th>\n",
       "      <th>Date</th>\n",
       "      <th>Time</th>\n",
       "      <th>Home</th>\n",
       "      <th>xG</th>\n",
       "      <th>Score</th>\n",
       "      <th>xG.1</th>\n",
       "      <th>Away</th>\n",
       "      <th>Attendance</th>\n",
       "      <th>Venue</th>\n",
       "      <th>Referee</th>\n",
       "      <th>Match Report</th>\n",
       "      <th>Notes</th>\n",
       "      <th>Week</th>\n",
       "    </tr>\n",
       "  </thead>\n",
       "  <tbody>\n",
       "    <tr>\n",
       "      <th>298</th>\n",
       "      <td>28.0</td>\n",
       "      <td>Sat</td>\n",
       "      <td>2024-03-09</td>\n",
       "      <td>12:30</td>\n",
       "      <td>Manchester Utd</td>\n",
       "      <td>NaN</td>\n",
       "      <td>NaN</td>\n",
       "      <td>NaN</td>\n",
       "      <td>Everton</td>\n",
       "      <td>NaN</td>\n",
       "      <td>Old Trafford</td>\n",
       "      <td>NaN</td>\n",
       "      <td>Head-to-Head</td>\n",
       "      <td>NaN</td>\n",
       "      <td>This week</td>\n",
       "    </tr>\n",
       "    <tr>\n",
       "      <th>299</th>\n",
       "      <td>28.0</td>\n",
       "      <td>Sat</td>\n",
       "      <td>2024-03-09</td>\n",
       "      <td>15:00</td>\n",
       "      <td>Bournemouth</td>\n",
       "      <td>NaN</td>\n",
       "      <td>NaN</td>\n",
       "      <td>NaN</td>\n",
       "      <td>Sheffield Utd</td>\n",
       "      <td>NaN</td>\n",
       "      <td>Vitality Stadium</td>\n",
       "      <td>NaN</td>\n",
       "      <td>Head-to-Head</td>\n",
       "      <td>NaN</td>\n",
       "      <td>This week</td>\n",
       "    </tr>\n",
       "    <tr>\n",
       "      <th>300</th>\n",
       "      <td>28.0</td>\n",
       "      <td>Sat</td>\n",
       "      <td>2024-03-09</td>\n",
       "      <td>15:00</td>\n",
       "      <td>Wolves</td>\n",
       "      <td>NaN</td>\n",
       "      <td>NaN</td>\n",
       "      <td>NaN</td>\n",
       "      <td>Fulham</td>\n",
       "      <td>NaN</td>\n",
       "      <td>Molineux Stadium</td>\n",
       "      <td>NaN</td>\n",
       "      <td>Head-to-Head</td>\n",
       "      <td>NaN</td>\n",
       "      <td>This week</td>\n",
       "    </tr>\n",
       "    <tr>\n",
       "      <th>301</th>\n",
       "      <td>28.0</td>\n",
       "      <td>Sat</td>\n",
       "      <td>2024-03-09</td>\n",
       "      <td>15:00</td>\n",
       "      <td>Crystal Palace</td>\n",
       "      <td>NaN</td>\n",
       "      <td>NaN</td>\n",
       "      <td>NaN</td>\n",
       "      <td>Luton Town</td>\n",
       "      <td>NaN</td>\n",
       "      <td>Selhurst Park</td>\n",
       "      <td>NaN</td>\n",
       "      <td>Head-to-Head</td>\n",
       "      <td>NaN</td>\n",
       "      <td>This week</td>\n",
       "    </tr>\n",
       "    <tr>\n",
       "      <th>302</th>\n",
       "      <td>28.0</td>\n",
       "      <td>Sat</td>\n",
       "      <td>2024-03-09</td>\n",
       "      <td>17:30</td>\n",
       "      <td>Arsenal</td>\n",
       "      <td>NaN</td>\n",
       "      <td>NaN</td>\n",
       "      <td>NaN</td>\n",
       "      <td>Brentford</td>\n",
       "      <td>NaN</td>\n",
       "      <td>Emirates Stadium</td>\n",
       "      <td>NaN</td>\n",
       "      <td>Head-to-Head</td>\n",
       "      <td>NaN</td>\n",
       "      <td>This week</td>\n",
       "    </tr>\n",
       "    <tr>\n",
       "      <th>303</th>\n",
       "      <td>28.0</td>\n",
       "      <td>Sun</td>\n",
       "      <td>2024-03-10</td>\n",
       "      <td>13:00</td>\n",
       "      <td>Aston Villa</td>\n",
       "      <td>NaN</td>\n",
       "      <td>NaN</td>\n",
       "      <td>NaN</td>\n",
       "      <td>Tottenham</td>\n",
       "      <td>NaN</td>\n",
       "      <td>Villa Park</td>\n",
       "      <td>NaN</td>\n",
       "      <td>Head-to-Head</td>\n",
       "      <td>NaN</td>\n",
       "      <td>This week</td>\n",
       "    </tr>\n",
       "    <tr>\n",
       "      <th>304</th>\n",
       "      <td>28.0</td>\n",
       "      <td>Sun</td>\n",
       "      <td>2024-03-10</td>\n",
       "      <td>14:00</td>\n",
       "      <td>West Ham</td>\n",
       "      <td>NaN</td>\n",
       "      <td>NaN</td>\n",
       "      <td>NaN</td>\n",
       "      <td>Burnley</td>\n",
       "      <td>NaN</td>\n",
       "      <td>London Stadium</td>\n",
       "      <td>NaN</td>\n",
       "      <td>Head-to-Head</td>\n",
       "      <td>NaN</td>\n",
       "      <td>This week</td>\n",
       "    </tr>\n",
       "    <tr>\n",
       "      <th>305</th>\n",
       "      <td>28.0</td>\n",
       "      <td>Sun</td>\n",
       "      <td>2024-03-10</td>\n",
       "      <td>14:00</td>\n",
       "      <td>Brighton</td>\n",
       "      <td>NaN</td>\n",
       "      <td>NaN</td>\n",
       "      <td>NaN</td>\n",
       "      <td>Nott'ham Forest</td>\n",
       "      <td>NaN</td>\n",
       "      <td>The American Express Community Stadium</td>\n",
       "      <td>NaN</td>\n",
       "      <td>Head-to-Head</td>\n",
       "      <td>NaN</td>\n",
       "      <td>This week</td>\n",
       "    </tr>\n",
       "    <tr>\n",
       "      <th>306</th>\n",
       "      <td>28.0</td>\n",
       "      <td>Sun</td>\n",
       "      <td>2024-03-10</td>\n",
       "      <td>15:45</td>\n",
       "      <td>Liverpool</td>\n",
       "      <td>NaN</td>\n",
       "      <td>NaN</td>\n",
       "      <td>NaN</td>\n",
       "      <td>Manchester City</td>\n",
       "      <td>NaN</td>\n",
       "      <td>Anfield</td>\n",
       "      <td>NaN</td>\n",
       "      <td>Head-to-Head</td>\n",
       "      <td>NaN</td>\n",
       "      <td>This week</td>\n",
       "    </tr>\n",
       "    <tr>\n",
       "      <th>307</th>\n",
       "      <td>28.0</td>\n",
       "      <td>Mon</td>\n",
       "      <td>2024-03-11</td>\n",
       "      <td>20:00</td>\n",
       "      <td>Chelsea</td>\n",
       "      <td>NaN</td>\n",
       "      <td>NaN</td>\n",
       "      <td>NaN</td>\n",
       "      <td>Newcastle Utd</td>\n",
       "      <td>NaN</td>\n",
       "      <td>Stamford Bridge</td>\n",
       "      <td>NaN</td>\n",
       "      <td>Head-to-Head</td>\n",
       "      <td>NaN</td>\n",
       "      <td>This week</td>\n",
       "    </tr>\n",
       "    <tr>\n",
       "      <th>314</th>\n",
       "      <td>29.0</td>\n",
       "      <td>Sat</td>\n",
       "      <td>2024-03-16</td>\n",
       "      <td>15:00</td>\n",
       "      <td>Luton Town</td>\n",
       "      <td>NaN</td>\n",
       "      <td>NaN</td>\n",
       "      <td>NaN</td>\n",
       "      <td>Nott'ham Forest</td>\n",
       "      <td>NaN</td>\n",
       "      <td>Kenilworth Road Stadium</td>\n",
       "      <td>NaN</td>\n",
       "      <td>Head-to-Head</td>\n",
       "      <td>NaN</td>\n",
       "      <td>Next week</td>\n",
       "    </tr>\n",
       "    <tr>\n",
       "      <th>315</th>\n",
       "      <td>29.0</td>\n",
       "      <td>Sat</td>\n",
       "      <td>2024-03-16</td>\n",
       "      <td>15:00</td>\n",
       "      <td>Burnley</td>\n",
       "      <td>NaN</td>\n",
       "      <td>NaN</td>\n",
       "      <td>NaN</td>\n",
       "      <td>Brentford</td>\n",
       "      <td>NaN</td>\n",
       "      <td>Turf Moor</td>\n",
       "      <td>NaN</td>\n",
       "      <td>Head-to-Head</td>\n",
       "      <td>NaN</td>\n",
       "      <td>Next week</td>\n",
       "    </tr>\n",
       "    <tr>\n",
       "      <th>317</th>\n",
       "      <td>29.0</td>\n",
       "      <td>Sat</td>\n",
       "      <td>2024-03-16</td>\n",
       "      <td>17:30</td>\n",
       "      <td>Fulham</td>\n",
       "      <td>NaN</td>\n",
       "      <td>NaN</td>\n",
       "      <td>NaN</td>\n",
       "      <td>Tottenham</td>\n",
       "      <td>NaN</td>\n",
       "      <td>Craven Cottage</td>\n",
       "      <td>NaN</td>\n",
       "      <td>Head-to-Head</td>\n",
       "      <td>NaN</td>\n",
       "      <td>Next week</td>\n",
       "    </tr>\n",
       "    <tr>\n",
       "      <th>319</th>\n",
       "      <td>29.0</td>\n",
       "      <td>Sun</td>\n",
       "      <td>2024-03-17</td>\n",
       "      <td>14:00</td>\n",
       "      <td>West Ham</td>\n",
       "      <td>NaN</td>\n",
       "      <td>NaN</td>\n",
       "      <td>NaN</td>\n",
       "      <td>Aston Villa</td>\n",
       "      <td>NaN</td>\n",
       "      <td>London Stadium</td>\n",
       "      <td>NaN</td>\n",
       "      <td>Head-to-Head</td>\n",
       "      <td>NaN</td>\n",
       "      <td>Next week</td>\n",
       "    </tr>\n",
       "  </tbody>\n",
       "</table>\n",
       "</div>"
      ],
      "text/plain": [
       "       Wk  Day        Date   Time            Home  xG Score  xG.1  \\\n",
       "298  28.0  Sat  2024-03-09  12:30  Manchester Utd NaN   NaN   NaN   \n",
       "299  28.0  Sat  2024-03-09  15:00     Bournemouth NaN   NaN   NaN   \n",
       "300  28.0  Sat  2024-03-09  15:00          Wolves NaN   NaN   NaN   \n",
       "301  28.0  Sat  2024-03-09  15:00  Crystal Palace NaN   NaN   NaN   \n",
       "302  28.0  Sat  2024-03-09  17:30         Arsenal NaN   NaN   NaN   \n",
       "303  28.0  Sun  2024-03-10  13:00     Aston Villa NaN   NaN   NaN   \n",
       "304  28.0  Sun  2024-03-10  14:00        West Ham NaN   NaN   NaN   \n",
       "305  28.0  Sun  2024-03-10  14:00        Brighton NaN   NaN   NaN   \n",
       "306  28.0  Sun  2024-03-10  15:45       Liverpool NaN   NaN   NaN   \n",
       "307  28.0  Mon  2024-03-11  20:00         Chelsea NaN   NaN   NaN   \n",
       "314  29.0  Sat  2024-03-16  15:00      Luton Town NaN   NaN   NaN   \n",
       "315  29.0  Sat  2024-03-16  15:00         Burnley NaN   NaN   NaN   \n",
       "317  29.0  Sat  2024-03-16  17:30          Fulham NaN   NaN   NaN   \n",
       "319  29.0  Sun  2024-03-17  14:00        West Ham NaN   NaN   NaN   \n",
       "\n",
       "                Away  Attendance                                   Venue  \\\n",
       "298          Everton         NaN                            Old Trafford   \n",
       "299    Sheffield Utd         NaN                        Vitality Stadium   \n",
       "300           Fulham         NaN                        Molineux Stadium   \n",
       "301       Luton Town         NaN                           Selhurst Park   \n",
       "302        Brentford         NaN                        Emirates Stadium   \n",
       "303        Tottenham         NaN                              Villa Park   \n",
       "304          Burnley         NaN                          London Stadium   \n",
       "305  Nott'ham Forest         NaN  The American Express Community Stadium   \n",
       "306  Manchester City         NaN                                 Anfield   \n",
       "307    Newcastle Utd         NaN                         Stamford Bridge   \n",
       "314  Nott'ham Forest         NaN                 Kenilworth Road Stadium   \n",
       "315        Brentford         NaN                               Turf Moor   \n",
       "317        Tottenham         NaN                          Craven Cottage   \n",
       "319      Aston Villa         NaN                          London Stadium   \n",
       "\n",
       "    Referee  Match Report Notes       Week  \n",
       "298     NaN  Head-to-Head   NaN  This week  \n",
       "299     NaN  Head-to-Head   NaN  This week  \n",
       "300     NaN  Head-to-Head   NaN  This week  \n",
       "301     NaN  Head-to-Head   NaN  This week  \n",
       "302     NaN  Head-to-Head   NaN  This week  \n",
       "303     NaN  Head-to-Head   NaN  This week  \n",
       "304     NaN  Head-to-Head   NaN  This week  \n",
       "305     NaN  Head-to-Head   NaN  This week  \n",
       "306     NaN  Head-to-Head   NaN  This week  \n",
       "307     NaN  Head-to-Head   NaN  This week  \n",
       "314     NaN  Head-to-Head   NaN  Next week  \n",
       "315     NaN  Head-to-Head   NaN  Next week  \n",
       "317     NaN  Head-to-Head   NaN  Next week  \n",
       "319     NaN  Head-to-Head   NaN  Next week  "
      ]
     },
     "execution_count": 129,
     "metadata": {},
     "output_type": "execute_result"
    }
   ],
   "source": [
    "nextweekfixture_url = \"https://fbref.com/en/comps/9/schedule/Premier-League-Scores-and-Fixtures\"\n",
    "data = requests.get(nextweekfixture_url)\n",
    "nextfixtures = pd.read_html(data.text, match= \"Scores & Fixtures \")[0]\n",
    "nextfixtures = nextfixtures[(nextfixtures[\"Match Report\"]==\"Head-to-Head\")&((nextfixtures[\"Wk\"]==Next_Week)|(nextfixtures[\"Wk\"]==Upper_Week))]\n",
    "# #requires that the column changes field type : I was changing from float to string. \n",
    "# Week = {1.0: 'This week', 2.0: 'Next week'}\n",
    "# nextfixtures = nextfixtures.replace({\"Wk\":Week})\n",
    "# #creating a new column entirely\n",
    "nextfixtures['Week'] = ['This week' if x==Next_Week else 'Next week' for x in nextfixtures['Wk']]\n",
    "nextfixtures"
   ]
  },
  {
   "cell_type": "code",
   "execution_count": 130,
   "metadata": {},
   "outputs": [],
   "source": [
    "nextfixtures[\"Season\"] = \"2023/2024\""
   ]
  },
  {
   "cell_type": "code",
   "execution_count": 131,
   "metadata": {},
   "outputs": [
    {
     "data": {
      "text/plain": [
       "-1"
      ]
     },
     "execution_count": 131,
     "metadata": {},
     "output_type": "execute_result"
    }
   ],
   "source": [
    "# Send to database (if i want to replace table add if_exists='replace' to the parameter)\n",
    "nextfixtures[\"Round\"] = Last_Round\n",
    "nextfixtures.to_sql('NextweekFixtures', engine, if_exists='append')"
   ]
  },
  {
   "cell_type": "code",
   "execution_count": null,
   "metadata": {},
   "outputs": [],
   "source": []
  },
  {
   "cell_type": "markdown",
   "metadata": {},
   "source": [
    "# Get Player HeadShot"
   ]
  },
  {
   "cell_type": "code",
   "execution_count": 132,
   "metadata": {},
   "outputs": [],
   "source": [
    "# code\n",
    "# standing_url = \"https://fbref.com/en/comps/9/Premier-League-Stats\"\n",
    "# data = requests.get(standing_url)\n",
    "# soup = BeautifulSoup(data.text, 'lxml')\n",
    "# standings_table = soup.select('table.stats_table')[0]\n",
    "# links = standings_table.find_all('a')\n",
    "# links = [l.get(\"href\") for l in links]\n",
    "# links = [l for l in links if 'squads' in l]\n",
    "# team_urls = [f\"https://fbref.com{l}\" for l in links][0]\n",
    "# all_PlayershootingStat = []\n",
    "\n"
   ]
  },
  {
   "cell_type": "code",
   "execution_count": 133,
   "metadata": {},
   "outputs": [],
   "source": [
    "# for team_url in team_urls:\n",
    "\n",
    "#     team_url = team_urls[0]\n",
    "# team_url\n",
    "\n",
    "# code\n",
    "# data = requests.get(team_urls)\n",
    "# soup = BeautifulSoup(data.text, 'lxml')\n",
    "# standings_table = soup.select('table.stats_table')[0]\n",
    "# links = standings_table.find_all('a')\n",
    "# links = [l.get(\"href\") for l in links]\n",
    "# links = [l for l in links if 'players' in l if 'matchlogs' not in l]\n",
    "# player_urls = [f\"https://fbref.com{l}\" for l in links][0]\n",
    "# player_urls\n",
    "# Player_name = player_urls.split(\"/\")[-1].replace(\"-\",\" \")\n",
    "# all_playerphoto = []\n",
    "\n",
    "# # for player_url in player_url:\n",
    "# data =urllib.request.urlopen(player_urls)\n",
    "# soup= BeautifulSoup(data)\n",
    "# images = soup.findAll('img')\n",
    "# images = [i for i in images if 'headshots' in i['src']]\n",
    "    \n",
    "# allplayer = []"
   ]
  },
  {
   "cell_type": "code",
   "execution_count": 134,
   "metadata": {},
   "outputs": [],
   "source": [
    "# code\n",
    "# for image in images:\n",
    "#     a=image['src']\n",
    "    \n",
    "#     allplayer.append(a)\n",
    "# df = pd.DataFrame(allplayer, columns = ['imageurl'])\n",
    "# df['name'] = Player_name\n",
    "# df"
   ]
  },
  {
   "cell_type": "code",
   "execution_count": null,
   "metadata": {},
   "outputs": [],
   "source": []
  },
  {
   "cell_type": "code",
   "execution_count": null,
   "metadata": {},
   "outputs": [],
   "source": []
  },
  {
   "cell_type": "code",
   "execution_count": 135,
   "metadata": {},
   "outputs": [],
   "source": [
    "# code\n",
    "# standing_url = \"https://fbref.com/en/comps/9/Premier-League-Stats\"\n",
    "# data = requests.get(standing_url)\n",
    "# soup = BeautifulSoup(data.text, 'lxml')\n",
    "# standings_table = soup.select('table.stats_table')[0]\n",
    "# links = standings_table.find_all('a')\n",
    "# links = [l.get(\"href\") for l in links]\n",
    "# links = [l for l in links if 'squads' in l]\n",
    "# team_urls = [f\"https://fbref.com{l}\" for l in links]\n",
    "\n",
    "# all_teamplayerphoto = []\n",
    "# for team_url in team_urls:\n",
    "#     team_name = team_url.split(\"/\")[-1].replace(\"-Stats\", \"\").replace(\"-\",\" \")\n",
    "#     data = requests.get(team_url)\n",
    "#     soup = BeautifulSoup(data.text, 'lxml')\n",
    "#     standings_table = soup.select('table.stats_table')[0]\n",
    "#     links = standings_table.find_all('a')\n",
    "#     links = [l.get(\"href\") for l in links]\n",
    "#     links = [l for l in links if 'players' in l if 'matchlogs' not in l]\n",
    "#     player_urls = [f\"https://fbref.com{l}\" for l in links]\n",
    "    \n",
    "    \n",
    "#     all_playerphoto = []\n",
    "#     for player_url in player_urls:\n",
    "#         Player_name = player_url.split(\"/\")[-1].replace(\"-\",\" \")\n",
    "#         data =urllib.request.urlopen(player_url)\n",
    "#         soup= BeautifulSoup(data)\n",
    "#         images = soup.findAll('img')\n",
    "#         images = [i for i in images if 'headshots' in i['src']]\n",
    "#         player = []\n",
    "#         for image in images:\n",
    "#             a=image['src']\n",
    "#             player.append(a)\n",
    "#             df = pd.DataFrame(player, columns = ['imageurl'])\n",
    "#             df['name'] = Player_name\n",
    "# #             time.sleep(0.5)\n",
    "#         pd_player =df\n",
    "#         pd_player['Squad'] = mapping[team_name]\n",
    "        \n",
    "        \n",
    "#         all_playerphoto.append(pd_player)\n",
    "# #         time.sleep(0.5)\n",
    "#     pd_all_playerphoto = pd.concat(all_playerphoto)\n",
    "    \n",
    "    \n",
    "#     all_teamplayerphoto.append(pd_all_playerphoto)\n",
    "#     time.sleep(0.5)\n",
    "# pd_all_teamplayerphoto = pd.concat(all_teamplayerphoto)\n",
    "        "
   ]
  },
  {
   "cell_type": "code",
   "execution_count": 136,
   "metadata": {},
   "outputs": [],
   "source": [
    "# code\n",
    "# pd_all_teamplayerphoto"
   ]
  },
  {
   "cell_type": "code",
   "execution_count": 137,
   "metadata": {},
   "outputs": [],
   "source": [
    "# Send to database (if i want to replace table add if_exists='replace' to the parameter)\n",
    "# nextfixtures[\"Round\"] = 'MW_10'\n",
    "\n",
    "\n",
    "# code\n",
    "# pd_all_teamplayerphoto.to_sql('_Playerphoto', engine, if_exists='')"
   ]
  }
 ],
 "metadata": {
  "kernelspec": {
   "display_name": "Python 3 (ipykernel)",
   "language": "python",
   "name": "python3"
  },
  "language_info": {
   "codemirror_mode": {
    "name": "ipython",
    "version": 3
   },
   "file_extension": ".py",
   "mimetype": "text/x-python",
   "name": "python",
   "nbconvert_exporter": "python",
   "pygments_lexer": "ipython3",
   "version": "3.10.9"
  }
 },
 "nbformat": 4,
 "nbformat_minor": 4
}
